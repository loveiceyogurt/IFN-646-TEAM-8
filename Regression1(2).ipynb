{
 "cells": [
  {
   "cell_type": "code",
   "execution_count": 48,
   "id": "f5085958",
   "metadata": {},
   "outputs": [],
   "source": [
    "import numpy as np\n",
    "import pandas as pd\n",
    "import matplotlib.pyplot as plt\n",
    "from sklearn.model_selection import train_test_split\n",
    "from sklearn.linear_model import LinearRegression\n",
    "from sklearn.preprocessing import PolynomialFeatures\n",
    "from sklearn.pipeline import make_pipeline\n",
    "from sklearn import linear_model\n",
    "import glob\n",
    "import os\n",
    "import pandas as pd\n",
    "import sklearn"
   ]
  },
  {
   "cell_type": "code",
   "execution_count": 49,
   "id": "05a6be2b",
   "metadata": {},
   "outputs": [
    {
     "data": {
      "text/html": [
       "<div>\n",
       "<style scoped>\n",
       "    .dataframe tbody tr th:only-of-type {\n",
       "        vertical-align: middle;\n",
       "    }\n",
       "\n",
       "    .dataframe tbody tr th {\n",
       "        vertical-align: top;\n",
       "    }\n",
       "\n",
       "    .dataframe thead th {\n",
       "        text-align: right;\n",
       "    }\n",
       "</style>\n",
       "<table border=\"1\" class=\"dataframe\">\n",
       "  <thead>\n",
       "    <tr style=\"text-align: right;\">\n",
       "      <th></th>\n",
       "      <th>timestamp</th>\n",
       "      <th>Actiwatch activity counts</th>\n",
       "      <th>Actiware classification</th>\n",
       "      <th>Apple Watch ENMO</th>\n",
       "    </tr>\n",
       "  </thead>\n",
       "  <tbody>\n",
       "    <tr>\n",
       "      <th>0</th>\n",
       "      <td>1/1/2000 1:17</td>\n",
       "      <td>NaN</td>\n",
       "      <td>NaN</td>\n",
       "      <td>0.003123</td>\n",
       "    </tr>\n",
       "    <tr>\n",
       "      <th>1</th>\n",
       "      <td>1/1/2000 1:17</td>\n",
       "      <td>NaN</td>\n",
       "      <td>NaN</td>\n",
       "      <td>0.002960</td>\n",
       "    </tr>\n",
       "    <tr>\n",
       "      <th>2</th>\n",
       "      <td>1/1/2000 1:17</td>\n",
       "      <td>NaN</td>\n",
       "      <td>NaN</td>\n",
       "      <td>0.002921</td>\n",
       "    </tr>\n",
       "    <tr>\n",
       "      <th>3</th>\n",
       "      <td>1/1/2000 1:17</td>\n",
       "      <td>NaN</td>\n",
       "      <td>NaN</td>\n",
       "      <td>0.002907</td>\n",
       "    </tr>\n",
       "    <tr>\n",
       "      <th>4</th>\n",
       "      <td>1/1/2000 1:18</td>\n",
       "      <td>NaN</td>\n",
       "      <td>NaN</td>\n",
       "      <td>0.002932</td>\n",
       "    </tr>\n",
       "    <tr>\n",
       "      <th>...</th>\n",
       "      <td>...</td>\n",
       "      <td>...</td>\n",
       "      <td>...</td>\n",
       "      <td>...</td>\n",
       "    </tr>\n",
       "    <tr>\n",
       "      <th>49307</th>\n",
       "      <td>28/01/2000 08:56:45</td>\n",
       "      <td>79.0</td>\n",
       "      <td>1.0</td>\n",
       "      <td>0.072491</td>\n",
       "    </tr>\n",
       "    <tr>\n",
       "      <th>49308</th>\n",
       "      <td>28/01/2000 08:57:00</td>\n",
       "      <td>88.0</td>\n",
       "      <td>1.0</td>\n",
       "      <td>0.079414</td>\n",
       "    </tr>\n",
       "    <tr>\n",
       "      <th>49309</th>\n",
       "      <td>28/01/2000 08:57:15</td>\n",
       "      <td>73.0</td>\n",
       "      <td>1.0</td>\n",
       "      <td>0.093463</td>\n",
       "    </tr>\n",
       "    <tr>\n",
       "      <th>49310</th>\n",
       "      <td>28/01/2000 08:57:30</td>\n",
       "      <td>208.0</td>\n",
       "      <td>1.0</td>\n",
       "      <td>0.161290</td>\n",
       "    </tr>\n",
       "    <tr>\n",
       "      <th>49311</th>\n",
       "      <td>28/01/2000 08:57:45</td>\n",
       "      <td>176.0</td>\n",
       "      <td>NaN</td>\n",
       "      <td>0.132580</td>\n",
       "    </tr>\n",
       "  </tbody>\n",
       "</table>\n",
       "<p>49312 rows × 4 columns</p>\n",
       "</div>"
      ],
      "text/plain": [
       "                 timestamp  Actiwatch activity counts  \\\n",
       "0            1/1/2000 1:17                        NaN   \n",
       "1            1/1/2000 1:17                        NaN   \n",
       "2            1/1/2000 1:17                        NaN   \n",
       "3            1/1/2000 1:17                        NaN   \n",
       "4            1/1/2000 1:18                        NaN   \n",
       "...                    ...                        ...   \n",
       "49307  28/01/2000 08:56:45                       79.0   \n",
       "49308  28/01/2000 08:57:00                       88.0   \n",
       "49309  28/01/2000 08:57:15                       73.0   \n",
       "49310  28/01/2000 08:57:30                      208.0   \n",
       "49311  28/01/2000 08:57:45                      176.0   \n",
       "\n",
       "       Actiware classification  Apple Watch ENMO  \n",
       "0                          NaN          0.003123  \n",
       "1                          NaN          0.002960  \n",
       "2                          NaN          0.002921  \n",
       "3                          NaN          0.002907  \n",
       "4                          NaN          0.002932  \n",
       "...                        ...               ...  \n",
       "49307                      1.0          0.072491  \n",
       "49308                      1.0          0.079414  \n",
       "49309                      1.0          0.093463  \n",
       "49310                      1.0          0.161290  \n",
       "49311                      NaN          0.132580  \n",
       "\n",
       "[49312 rows x 4 columns]"
      ]
     },
     "execution_count": 49,
     "metadata": {},
     "output_type": "execute_result"
    }
   ],
   "source": [
    "# read all files\n",
    "\n",
    "folder_name = 'data'\n",
    "file_type = 'csv'\n",
    "seperator =','\n",
    "df = pd.concat([pd.read_csv(f, sep=seperator) for f in glob.glob(folder_name + \"/*.\"+file_type)],ignore_index=True)\n",
    "df"
   ]
  },
  {
   "cell_type": "code",
   "execution_count": 50,
   "id": "155c58e3",
   "metadata": {},
   "outputs": [
    {
     "name": "stdout",
     "output_type": "stream",
     "text": [
      "<class 'pandas.core.frame.DataFrame'>\n",
      "RangeIndex: 49312 entries, 0 to 49311\n",
      "Data columns (total 4 columns):\n",
      " #   Column                     Non-Null Count  Dtype  \n",
      "---  ------                     --------------  -----  \n",
      " 0   timestamp                  49312 non-null  object \n",
      " 1   Actiwatch activity counts  49100 non-null  float64\n",
      " 2   Actiware classification    48919 non-null  float64\n",
      " 3   Apple Watch ENMO           49278 non-null  float64\n",
      "dtypes: float64(3), object(1)\n",
      "memory usage: 1.5+ MB\n"
     ]
    }
   ],
   "source": [
    "df.info()"
   ]
  },
  {
   "cell_type": "code",
   "execution_count": 51,
   "id": "3864632d",
   "metadata": {},
   "outputs": [
    {
     "name": "stdout",
     "output_type": "stream",
     "text": [
      "<class 'pandas.core.frame.DataFrame'>\n",
      "Int64Index: 48909 entries, 15 to 49310\n",
      "Data columns (total 4 columns):\n",
      " #   Column                     Non-Null Count  Dtype  \n",
      "---  ------                     --------------  -----  \n",
      " 0   timestamp                  48909 non-null  object \n",
      " 1   Actiwatch activity counts  48909 non-null  float64\n",
      " 2   Actiware classification    48909 non-null  float64\n",
      " 3   Apple Watch ENMO           48909 non-null  float64\n",
      "dtypes: float64(3), object(1)\n",
      "memory usage: 1.9+ MB\n",
      "None\n"
     ]
    }
   ],
   "source": [
    "# Data clearning\n",
    "# drop NaN vaules\n",
    "\n",
    "df.dropna(subset=['Actiwatch activity counts','Actiware classification', 'Apple Watch ENMO'], inplace=True)\n",
    "print(df.info())"
   ]
  },
  {
   "cell_type": "code",
   "execution_count": 52,
   "id": "d064f13e",
   "metadata": {},
   "outputs": [
    {
     "data": {
      "image/png": "[encoded data removed]",
      "text/plain": [
       "<Figure size 432x288 with 1 Axes>"
      ]
     },
     "metadata": {
      "needs_background": "light"
     },
     "output_type": "display_data"
    }
   ],
   "source": [
    "#Selecte independent and dependent variable\n",
    "# X is independent---ENMO\n",
    "# y is dependent---Actiwatch activity counts\n",
    "\n",
    "X =df.iloc[:,3].values.reshape(-1, 1)\n",
    "y=df.iloc[:,1].values.reshape(-1, 1)\n",
    "\n",
    "plt.scatter(X, y)\n",
    "plt.show()"
   ]
  },
  {
   "cell_type": "code",
   "execution_count": 53,
   "id": "542ff761",
   "metadata": {},
   "outputs": [],
   "source": [
    "# set training and testing dataset\n",
    "X_train, X_test, y_train, y_test = train_test_split(X, y, test_size = 0.3, random_state = 0)"
   ]
  },
  {
   "cell_type": "code",
   "execution_count": 54,
   "id": "bb1b3388",
   "metadata": {},
   "outputs": [
    {
     "data": {
      "text/plain": [
       "Pipeline(steps=[('polynomialfeatures', PolynomialFeatures(degree=4)),\n",
       "                ('linearregression', LinearRegression())])"
      ]
     },
     "execution_count": 54,
     "metadata": {},
     "output_type": "execute_result"
    }
   ],
   "source": [
    "# build Polynomial Regression model (due to Simple Linear Regression can will get lower Score and Accuracy)\n",
    "# PolynomialFeatures set as 4 can obtain the better Score and Accuracy\n",
    "\n",
    "regressor = make_pipeline(PolynomialFeatures(4), LinearRegression())\n",
    "regressor.fit(X_train, y_train)"
   ]
  },
  {
   "cell_type": "code",
   "execution_count": 55,
   "id": "8c1021e2",
   "metadata": {},
   "outputs": [
    {
     "name": "stdout",
     "output_type": "stream",
     "text": [
      "Score:  0.7297029822636145\n",
      "Accuracy: 72.97029822636145%\n"
     ]
    }
   ],
   "source": [
    "# performance of Polynomial Regression model\n",
    "# get score and Accuracy\n",
    "\n",
    "score = regressor.score(X_test, y_test)\n",
    "print('Score: ', score)\n",
    "print('Accuracy: ' + str(score*100) + '%')"
   ]
  },
  {
   "cell_type": "code",
   "execution_count": 56,
   "id": "815471c8",
   "metadata": {},
   "outputs": [
    {
     "name": "stdout",
     "output_type": "stream",
     "text": [
      "Predict :  [[13.50918726]\n",
      " [-0.48079096]\n",
      " [-2.36704234]\n",
      " ...\n",
      " [ 3.19215472]\n",
      " [ 0.72702847]\n",
      " [ 3.08638664]]\n"
     ]
    }
   ],
   "source": [
    "# Use the trained regression model to predict the value of the testing dataset\n",
    "\n",
    "y_pred = regressor.predict(X_test)\n",
    "Apple_activity_counts=y_pred\n",
    "print('Predict : ', Apple_activity_counts)"
   ]
  },
  {
   "cell_type": "code",
   "execution_count": 57,
   "id": "62f4392e",
   "metadata": {},
   "outputs": [
    {
     "data": {
      "image/png": "[encoded data removed]",
      "text/plain": [
       "<Figure size 432x288 with 1 Axes>"
      ]
     },
     "metadata": {
      "needs_background": "light"
     },
     "output_type": "display_data"
    }
   ],
   "source": [
    "# polt the training set\n",
    "\n",
    "plt.scatter(X_train, y_train, color = 'red')\n",
    "plt.plot(X_train, regressor.predict(X_train), color = 'blue')\n",
    "plt.title('activity counts vs ENMO (trainning set)')\n",
    "plt.xlabel(\"ENMO\")\n",
    "plt.ylabel(\"activity counts\")\n",
    "plt.show()"
   ]
  },
  {
   "cell_type": "code",
   "execution_count": 58,
   "id": "1c470f79",
   "metadata": {},
   "outputs": [
    {
     "data": {
      "image/png": "[encoded data removed]",
      "text/plain": [
       "<Figure size 432x288 with 1 Axes>"
      ]
     },
     "metadata": {
      "needs_background": "light"
     },
     "output_type": "display_data"
    }
   ],
   "source": [
    "# polt the training set\n",
    "\n",
    "plt.scatter(X_test, y_test, color = 'red')\n",
    "plt.plot(X_test, regressor.predict(X_test), color = 'blue')\n",
    "plt.title('activity counts vs ENMO (test set)')\n",
    "plt.xlabel(\"ENMO\")\n",
    "plt.ylabel(\"activity counts\")\n",
    "plt.show()"
   ]
  },
  {
   "cell_type": "code",
   "execution_count": 59,
   "id": "8eeebf96",
   "metadata": {},
   "outputs": [
    {
     "name": "stdout",
     "output_type": "stream",
     "text": [
      "                 timestamp  Actiwatch activity counts  \\\n",
      "15           1/1/2000 1:20                        0.0   \n",
      "16           1/1/2000 1:21                       24.0   \n",
      "17           1/1/2000 1:21                        3.0   \n",
      "18           1/1/2000 1:21                        0.0   \n",
      "19           1/1/2000 1:21                        3.0   \n",
      "...                    ...                        ...   \n",
      "49306  28/01/2000 08:56:30                      113.0   \n",
      "49307  28/01/2000 08:56:45                       79.0   \n",
      "49308  28/01/2000 08:57:00                       88.0   \n",
      "49309  28/01/2000 08:57:15                       73.0   \n",
      "49310  28/01/2000 08:57:30                      208.0   \n",
      "\n",
      "       Actiware classification  Apple Watch ENMO  Apple_pred  \n",
      "15                         1.0          0.007234    5.940796  \n",
      "16                         1.0          0.030109   35.738614  \n",
      "17                         1.0          0.008785    8.050580  \n",
      "18                         1.0          0.007893    6.839463  \n",
      "19                         1.0          0.007761    6.658778  \n",
      "...                        ...               ...         ...  \n",
      "49306                      1.0          0.071673   83.418610  \n",
      "49307                      1.0          0.072491   84.283449  \n",
      "49308                      1.0          0.079414   91.503662  \n",
      "49309                      1.0          0.093463  105.625347  \n",
      "49310                      1.0          0.161290  165.745475  \n",
      "\n",
      "[48909 rows x 5 columns]\n"
     ]
    }
   ],
   "source": [
    "# Use the trained regression model to predict the activity count values of ENMO\n",
    "Apple_pred = regressor.predict(X)\n",
    "\n",
    "# save the predict the values to df\n",
    "df['Apple_pred'] = Apple_pred\n",
    "print(df)\n",
    "df.to_csv('new_df.csv')"
   ]
  },
  {
   "cell_type": "code",
   "execution_count": 60,
   "id": "0bee12a5",
   "metadata": {},
   "outputs": [
    {
     "name": "stdout",
     "output_type": "stream",
     "text": [
      "       Unnamed: 0            timestamp  Actiwatch activity counts  \\\n",
      "0              15        1/1/2000 1:20                        0.0   \n",
      "1              16        1/1/2000 1:21                       24.0   \n",
      "2              17        1/1/2000 1:21                        3.0   \n",
      "3              18        1/1/2000 1:21                        0.0   \n",
      "4              19        1/1/2000 1:21                        3.0   \n",
      "...           ...                  ...                        ...   \n",
      "48904       49306  28/01/2000 08:56:30                      113.0   \n",
      "48905       49307  28/01/2000 08:56:45                       79.0   \n",
      "48906       49308  28/01/2000 08:57:00                       88.0   \n",
      "48907       49309  28/01/2000 08:57:15                       73.0   \n",
      "48908       49310  28/01/2000 08:57:30                      208.0   \n",
      "\n",
      "       Actiware classification  Apple Watch ENMO  Apple_pred  \n",
      "0                          1.0          0.007234    5.940796  \n",
      "1                          1.0          0.030109   35.738614  \n",
      "2                          1.0          0.008785    8.050580  \n",
      "3                          1.0          0.007893    6.839463  \n",
      "4                          1.0          0.007761    6.658778  \n",
      "...                        ...               ...         ...  \n",
      "48904                      1.0          0.071673   83.418610  \n",
      "48905                      1.0          0.072491   84.283449  \n",
      "48906                      1.0          0.079414   91.503662  \n",
      "48907                      1.0          0.093463  105.625347  \n",
      "48908                      1.0          0.161290  165.745475  \n",
      "\n",
      "[48909 rows x 6 columns]\n"
     ]
    }
   ],
   "source": [
    "df1=pd.read_csv('new_df.csv')\n",
    "print(df1)"
   ]
  },
  {
   "cell_type": "code",
   "execution_count": 61,
   "id": "09a97f02",
   "metadata": {},
   "outputs": [],
   "source": [
    "x = df1['Apple_pred']\n",
    "#for i in range:\n",
    "for i in range(15,1520):\n",
    "    df1.loc[i,'Apple_total_counts']=(x[i]+x[i+1]+x[i+2]+x[i+3])*0.04+(x[i+4]+x[i+5]+x[i+6]+x[i+7])*0.2+4*x[i+8]+(x[i+9]+x[i+10]+x[i+11]+x[i+12])*0.04+(x[i+13]+x[i+14]+x[i+15]+x[i+16])*0.2\n",
    "    if df1['Apple_total_counts'][i]>=40:\n",
    "        df1.loc[i,'Apple_classification']=1\n",
    "    else:\n",
    "        df1.loc[i,'Apple_classification']=0"
   ]
  },
  {
   "cell_type": "code",
   "execution_count": 62,
   "id": "24c24425-b79e-481c-b48b-eb86c55b852d",
   "metadata": {},
   "outputs": [],
   "source": [
    "for i in range(1541,3210):\n",
    "    df1.loc[i,'Apple_total_counts']=(x[i]+x[i+1]+x[i+2]+x[i+3])*0.04+(x[i+4]+x[i+5]+x[i+6]+x[i+7])*0.2+4*x[i+8]+(x[i+9]+x[i+10]+x[i+11]+x[i+12])*0.04+(x[i+13]+x[i+14]+x[i+15]+x[i+16])*0.2\n",
    "    if df1['Apple_total_counts'][i]>=40:\n",
    "        df1.loc[i,'Apple_classification']=1\n",
    "    else:\n",
    "        df1.loc[i,'Apple_classification']=0"
   ]
  },
  {
   "cell_type": "code",
   "execution_count": 63,
   "id": "b0900b35-44cf-49ec-b806-d0ce2ec08e1c",
   "metadata": {},
   "outputs": [],
   "source": [
    "for i in range(3231,5297):\n",
    "    df1.loc[i,'Apple_total_counts']=(x[i]+x[i+1]+x[i+2]+x[i+3])*0.04+(x[i+4]+x[i+5]+x[i+6]+x[i+7])*0.2+4*x[i+8]+(x[i+9]+x[i+10]+x[i+11]+x[i+12])*0.04+(x[i+13]+x[i+14]+x[i+15]+x[i+16])*0.2\n",
    "    if df1['Apple_total_counts'][i]>=40:\n",
    "        df1.loc[i,'Apple_classification']=1\n",
    "    else:\n",
    "        df1.loc[i,'Apple_classification']=0"
   ]
  },
  {
   "cell_type": "code",
   "execution_count": 64,
   "id": "9a54a132-d4e5-4d21-8f66-0eed7e82ce4d",
   "metadata": {},
   "outputs": [],
   "source": [
    "for i in range(5322,7305):\n",
    "    df1.loc[i,'Apple_total_counts']=(x[i]+x[i+1]+x[i+2]+x[i+3])*0.04+(x[i+4]+x[i+5]+x[i+6]+x[i+7])*0.2+4*x[i+8]+(x[i+9]+x[i+10]+x[i+11]+x[i+12])*0.04+(x[i+13]+x[i+14]+x[i+15]+x[i+16])*0.2\n",
    "    if df1['Apple_total_counts'][i]>=40:\n",
    "        df1.loc[i,'Apple_classification']=1\n",
    "    else:\n",
    "        df1.loc[i,'Apple_classification']=0"
   ]
  },
  {
   "cell_type": "code",
   "execution_count": 65,
   "id": "3e457a03-8ce8-4c18-bb40-df1403af9e57",
   "metadata": {},
   "outputs": [],
   "source": [
    "for i in range(7316,8858):\n",
    "    df1.loc[i,'Apple_total_counts']=(x[i]+x[i+1]+x[i+2]+x[i+3])*0.04+(x[i+4]+x[i+5]+x[i+6]+x[i+7])*0.2+4*x[i+8]+(x[i+9]+x[i+10]+x[i+11]+x[i+12])*0.04+(x[i+13]+x[i+14]+x[i+15]+x[i+16])*0.2\n",
    "    if df1['Apple_total_counts'][i]>=40:\n",
    "        df1.loc[i,'Apple_classification']=1\n",
    "    else:\n",
    "        df1.loc[i,'Apple_classification']=0"
   ]
  },
  {
   "cell_type": "code",
   "execution_count": 66,
   "id": "cd075c26-ab77-491a-836a-e57b46393a01",
   "metadata": {},
   "outputs": [],
   "source": [
    "for i in range(8864,10973):\n",
    "    df1.loc[i,'Apple_total_counts']=(x[i]+x[i+1]+x[i+2]+x[i+3])*0.04+(x[i+4]+x[i+5]+x[i+6]+x[i+7])*0.2+4*x[i+8]+(x[i+9]+x[i+10]+x[i+11]+x[i+12])*0.04+(x[i+13]+x[i+14]+x[i+15]+x[i+16])*0.2\n",
    "    if df1['Apple_total_counts'][i]>=40:\n",
    "        df1.loc[i,'Apple_classification']=1\n",
    "    else:\n",
    "        df1.loc[i,'Apple_classification']=0"
   ]
  },
  {
   "cell_type": "code",
   "execution_count": 67,
   "id": "bbc5442d-ed3d-4ba7-af5d-cf149251e5e5",
   "metadata": {},
   "outputs": [],
   "source": [
    "for i in range(10981,12655):\n",
    "    df1.loc[i,'Apple_total_counts']=(x[i]+x[i+1]+x[i+2]+x[i+3])*0.04+(x[i+4]+x[i+5]+x[i+6]+x[i+7])*0.2+4*x[i+8]+(x[i+9]+x[i+10]+x[i+11]+x[i+12])*0.04+(x[i+13]+x[i+14]+x[i+15]+x[i+16])*0.2\n",
    "    if df1['Apple_total_counts'][i]>=40:\n",
    "        df1.loc[i,'Apple_classification']=1\n",
    "    else:\n",
    "        df1.loc[i,'Apple_classification']=0"
   ]
  },
  {
   "cell_type": "code",
   "execution_count": 68,
   "id": "954ecba3-4f58-41c1-972e-49cc40a979ce",
   "metadata": {},
   "outputs": [],
   "source": [
    "for i in range(12669,14359):\n",
    "    df1.loc[i,'Apple_total_counts']=(x[i]+x[i+1]+x[i+2]+x[i+3])*0.04+(x[i+4]+x[i+5]+x[i+6]+x[i+7])*0.2+4*x[i+8]+(x[i+9]+x[i+10]+x[i+11]+x[i+12])*0.04+(x[i+13]+x[i+14]+x[i+15]+x[i+16])*0.2\n",
    "    if df1['Apple_total_counts'][i]>=40:\n",
    "        df1.loc[i,'Apple_classification']=1\n",
    "    else:\n",
    "        df1.loc[i,'Apple_classification']=0"
   ]
  },
  {
   "cell_type": "code",
   "execution_count": 69,
   "id": "ceacd77b",
   "metadata": {},
   "outputs": [],
   "source": [
    "for i in range(14377,15868):\n",
    "    df1.loc[i,'Apple_total_counts']=(x[i]+x[i+1]+x[i+2]+x[i+3])*0.04+(x[i+4]+x[i+5]+x[i+6]+x[i+7])*0.2+4*x[i+8]+(x[i+9]+x[i+10]+x[i+11]+x[i+12])*0.04+(x[i+13]+x[i+14]+x[i+15]+x[i+16])*0.2\n",
    "    if df1['Apple_total_counts'][i]>=40:\n",
    "        df1.loc[i,'Apple_classification']=1\n",
    "    else:\n",
    "        df1.loc[i,'Apple_classification']=0"
   ]
  },
  {
   "cell_type": "code",
   "execution_count": 70,
   "id": "00755473",
   "metadata": {},
   "outputs": [],
   "source": [
    "for i in range(15886,18292):\n",
    "    df1.loc[i,'Apple_total_counts']=(x[i]+x[i+1]+x[i+2]+x[i+3])*0.04+(x[i+4]+x[i+5]+x[i+6]+x[i+7])*0.2+4*x[i+8]+(x[i+9]+x[i+10]+x[i+11]+x[i+12])*0.04+(x[i+13]+x[i+14]+x[i+15]+x[i+16])*0.2\n",
    "    if df1['Apple_total_counts'][i]>=40:\n",
    "        df1.loc[i,'Apple_classification']=1\n",
    "    else:\n",
    "        df1.loc[i,'Apple_classification']=0"
   ]
  },
  {
   "cell_type": "code",
   "execution_count": 71,
   "id": "be784e8e",
   "metadata": {},
   "outputs": [],
   "source": [
    "for i in range(18318,20189):  \n",
    "    df1.loc[i,'Apple_total_counts']=(x[i]+x[i+1]+x[i+2]+x[i+3])*0.04+(x[i+4]+x[i+5]+x[i+6]+x[i+7])*0.2+4*x[i+8]+(x[i+9]+x[i+10]+x[i+11]+x[i+12])*0.04+(x[i+13]+x[i+14]+x[i+15]+x[i+16])*0.2\n",
    "    if df1['Apple_total_counts'][i]>=40:\n",
    "        df1.loc[i,'Apple_classification']=1\n",
    "    else:\n",
    "        df1.loc[i,'Apple_classification']=0"
   ]
  },
  {
   "cell_type": "code",
   "execution_count": 72,
   "id": "517fbde0",
   "metadata": {},
   "outputs": [],
   "source": [
    "for i in range(20218,22027):\n",
    "    df1.loc[i,'Apple_total_counts']=(x[i]+x[i+1]+x[i+2]+x[i+3])*0.04+(x[i+4]+x[i+5]+x[i+6]+x[i+7])*0.2+4*x[i+8]+(x[i+9]+x[i+10]+x[i+11]+x[i+12])*0.04+(x[i+13]+x[i+14]+x[i+15]+x[i+16])*0.2\n",
    "    if df1['Apple_total_counts'][i]>=40:\n",
    "        df1.loc[i,'Apple_classification']=1\n",
    "    else:\n",
    "        df1.loc[i,'Apple_classification']=0"
   ]
  },
  {
   "cell_type": "code",
   "execution_count": 73,
   "id": "5c1f381d",
   "metadata": {},
   "outputs": [],
   "source": [
    "for i in range(22047,23992):\n",
    "    df1.loc[i,'Apple_total_counts']=(x[i]+x[i+1]+x[i+2]+x[i+3])*0.04+(x[i+4]+x[i+5]+x[i+6]+x[i+7])*0.2+4*x[i+8]+(x[i+9]+x[i+10]+x[i+11]+x[i+12])*0.04+(x[i+13]+x[i+14]+x[i+15]+x[i+16])*0.2\n",
    "    if df1['Apple_total_counts'][i]>=40:\n",
    "        df1.loc[i,'Apple_classification']=1\n",
    "    else:\n",
    "        df1.loc[i,'Apple_classification']=0"
   ]
  },
  {
   "cell_type": "code",
   "execution_count": 74,
   "id": "a2037db5",
   "metadata": {},
   "outputs": [],
   "source": [
    "for i in range(24011,25521):\n",
    "    df1.loc[i,'Apple_total_counts']=(x[i]+x[i+1]+x[i+2]+x[i+3])*0.04+(x[i+4]+x[i+5]+x[i+6]+x[i+7])*0.2+4*x[i+8]+(x[i+9]+x[i+10]+x[i+11]+x[i+12])*0.04+(x[i+13]+x[i+14]+x[i+15]+x[i+16])*0.2\n",
    "    if df1['Apple_total_counts'][i]>=40:\n",
    "        df1.loc[i,'Apple_classification']=1\n",
    "    else:\n",
    "        df1.loc[i,'Apple_classification']=0"
   ]
  },
  {
   "cell_type": "code",
   "execution_count": 75,
   "id": "f00f7b1a",
   "metadata": {},
   "outputs": [],
   "source": [
    "for i in range(25543,27618):\n",
    "    df1.loc[i,'Apple_total_counts']=(x[i]+x[i+1]+x[i+2]+x[i+3])*0.04+(x[i+4]+x[i+5]+x[i+6]+x[i+7])*0.2+4*x[i+8]+(x[i+9]+x[i+10]+x[i+11]+x[i+12])*0.04+(x[i+13]+x[i+14]+x[i+15]+x[i+16])*0.2\n",
    "    if df1['Apple_total_counts'][i]>=40:\n",
    "        df1.loc[i,'Apple_classification']=1\n",
    "    else:\n",
    "        df1.loc[i,'Apple_classification']=0"
   ]
  },
  {
   "cell_type": "code",
   "execution_count": 76,
   "id": "2b69274e",
   "metadata": {},
   "outputs": [],
   "source": [
    "for i in range(27636,29223):\n",
    "    df1.loc[i,'Apple_total_counts']=(x[i]+x[i+1]+x[i+2]+x[i+3])*0.04+(x[i+4]+x[i+5]+x[i+6]+x[i+7])*0.2+4*x[i+8]+(x[i+9]+x[i+10]+x[i+11]+x[i+12])*0.04+(x[i+13]+x[i+14]+x[i+15]+x[i+16])*0.2\n",
    "    if df1['Apple_total_counts'][i]>=40:\n",
    "        df1.loc[i,'Apple_classification']=1\n",
    "    else:\n",
    "        df1.loc[i,'Apple_classification']=0"
   ]
  },
  {
   "cell_type": "code",
   "execution_count": 77,
   "id": "d5d1ab91",
   "metadata": {},
   "outputs": [],
   "source": [
    "for i in range(29230,31062):\n",
    "    df1.loc[i,'Apple_total_counts']=(x[i]+x[i+1]+x[i+2]+x[i+3])*0.04+(x[i+4]+x[i+5]+x[i+6]+x[i+7])*0.2+4*x[i+8]+(x[i+9]+x[i+10]+x[i+11]+x[i+12])*0.04+(x[i+13]+x[i+14]+x[i+15]+x[i+16])*0.2\n",
    "    if df1['Apple_total_counts'][i]>=40:\n",
    "        df1.loc[i,'Apple_classification']=1\n",
    "    else:\n",
    "        df1.loc[i,'Apple_classification']=0"
   ]
  },
  {
   "cell_type": "code",
   "execution_count": 78,
   "id": "ef576a4c",
   "metadata": {},
   "outputs": [],
   "source": [
    "for i in range(31085,33048):\n",
    "    df1.loc[i,'Apple_total_counts']=(x[i]+x[i+1]+x[i+2]+x[i+3])*0.04+(x[i+4]+x[i+5]+x[i+6]+x[i+7])*0.2+4*x[i+8]+(x[i+9]+x[i+10]+x[i+11]+x[i+12])*0.04+(x[i+13]+x[i+14]+x[i+15]+x[i+16])*0.2\n",
    "    if df1['Apple_total_counts'][i]>=40:\n",
    "        df1.loc[i,'Apple_classification']=1\n",
    "    else:\n",
    "        df1.loc[i,'Apple_classification']=0"
   ]
  },
  {
   "cell_type": "code",
   "execution_count": 79,
   "id": "30385c79",
   "metadata": {},
   "outputs": [],
   "source": [
    "for i in range(33060,36015):\n",
    "    df1.loc[i,'Apple_total_counts']=(x[i]+x[i+1]+x[i+2]+x[i+3])*0.04+(x[i+4]+x[i+5]+x[i+6]+x[i+7])*0.2+4*x[i+8]+(x[i+9]+x[i+10]+x[i+11]+x[i+12])*0.04+(x[i+13]+x[i+14]+x[i+15]+x[i+16])*0.2\n",
    "    if df1['Apple_total_counts'][i]>=40:\n",
    "        df1.loc[i,'Apple_classification']=1\n",
    "    else:\n",
    "        df1.loc[i,'Apple_classification']=0"
   ]
  },
  {
   "cell_type": "code",
   "execution_count": 80,
   "id": "0dd7f8b9",
   "metadata": {},
   "outputs": [],
   "source": [
    "for i in range(36030,37917):\n",
    "    df1.loc[i,'Apple_total_counts']=(x[i]+x[i+1]+x[i+2]+x[i+3])*0.04+(x[i+4]+x[i+5]+x[i+6]+x[i+7])*0.2+4*x[i+8]+(x[i+9]+x[i+10]+x[i+11]+x[i+12])*0.04+(x[i+13]+x[i+14]+x[i+15]+x[i+16])*0.2\n",
    "    if df1['Apple_total_counts'][i]>=40:\n",
    "        df1.loc[i,'Apple_classification']=1\n",
    "    else:\n",
    "        df1.loc[i,'Apple_classification']=0"
   ]
  },
  {
   "cell_type": "code",
   "execution_count": 81,
   "id": "749cff86",
   "metadata": {},
   "outputs": [],
   "source": [
    "for i in range(37933,39318):\n",
    "    df1.loc[i,'Apple_total_counts']=(x[i]+x[i+1]+x[i+2]+x[i+3])*0.04+(x[i+4]+x[i+5]+x[i+6]+x[i+7])*0.2+4*x[i+8]+(x[i+9]+x[i+10]+x[i+11]+x[i+12])*0.04+(x[i+13]+x[i+14]+x[i+15]+x[i+16])*0.2\n",
    "    if df1['Apple_total_counts'][i]>=40:\n",
    "        df1.loc[i,'Apple_classification']=1\n",
    "    else:\n",
    "        df1.loc[i,'Apple_classification']=0"
   ]
  },
  {
   "cell_type": "code",
   "execution_count": 82,
   "id": "015803f5",
   "metadata": {},
   "outputs": [],
   "source": [
    "for i in range(39333,41774):\n",
    "    df1.loc[i,'Apple_total_counts']=(x[i]+x[i+1]+x[i+2]+x[i+3])*0.04+(x[i+4]+x[i+5]+x[i+6]+x[i+7])*0.2+4*x[i+8]+(x[i+9]+x[i+10]+x[i+11]+x[i+12])*0.04+(x[i+13]+x[i+14]+x[i+15]+x[i+16])*0.2\n",
    "    if df1['Apple_total_counts'][i]>=40:\n",
    "        df1.loc[i,'Apple_classification']=1\n",
    "    else:\n",
    "        df1.loc[i,'Apple_classification']=0"
   ]
  },
  {
   "cell_type": "code",
   "execution_count": 83,
   "id": "a307a7df",
   "metadata": {},
   "outputs": [],
   "source": [
    "for i in range(41783,43231):\n",
    "    df1.loc[i,'Apple_total_counts']=(x[i]+x[i+1]+x[i+2]+x[i+3])*0.04+(x[i+4]+x[i+5]+x[i+6]+x[i+7])*0.2+4*x[i+8]+(x[i+9]+x[i+10]+x[i+11]+x[i+12])*0.04+(x[i+13]+x[i+14]+x[i+15]+x[i+16])*0.2\n",
    "    if df1['Apple_total_counts'][i]>=40:\n",
    "        df1.loc[i,'Apple_classification']=1\n",
    "    else:\n",
    "        df1.loc[i,'Apple_classification']=0"
   ]
  },
  {
   "cell_type": "code",
   "execution_count": 84,
   "id": "3733fa4b",
   "metadata": {},
   "outputs": [],
   "source": [
    "for i in range(43241,45234):\n",
    "    df1.loc[i,'Apple_total_counts']=(x[i]+x[i+1]+x[i+2]+x[i+3])*0.04+(x[i+4]+x[i+5]+x[i+6]+x[i+7])*0.2+4*x[i+8]+(x[i+9]+x[i+10]+x[i+11]+x[i+12])*0.04+(x[i+13]+x[i+14]+x[i+15]+x[i+16])*0.2\n",
    "    if df1['Apple_total_counts'][i]>=40:\n",
    "        df1.loc[i,'Apple_classification']=1\n",
    "    else:\n",
    "        df1.loc[i,'Apple_classification']=0"
   ]
  },
  {
   "cell_type": "code",
   "execution_count": 85,
   "id": "85fcead2",
   "metadata": {},
   "outputs": [],
   "source": [
    "for i in range(45246,46842):\n",
    "    df1.loc[i,'Apple_total_counts']=(x[i]+x[i+1]+x[i+2]+x[i+3])*0.04+(x[i+4]+x[i+5]+x[i+6]+x[i+7])*0.2+4*x[i+8]+(x[i+9]+x[i+10]+x[i+11]+x[i+12])*0.04+(x[i+13]+x[i+14]+x[i+15]+x[i+16])*0.2\n",
    "    if df1['Apple_total_counts'][i]>=40:\n",
    "        df1.loc[i,'Apple_classification']=1\n",
    "    else:\n",
    "        df1.loc[i,'Apple_classification']=0"
   ]
  },
  {
   "cell_type": "code",
   "execution_count": 86,
   "id": "de524a9b",
   "metadata": {},
   "outputs": [],
   "source": [
    "for i in range(46857,48296):\n",
    "    df1.loc[i,'Apple_total_counts']=(x[i]+x[i+1]+x[i+2]+x[i+3])*0.04+(x[i+4]+x[i+5]+x[i+6]+x[i+7])*0.2+4*x[i+8]+(x[i+9]+x[i+10]+x[i+11]+x[i+12])*0.04+(x[i+13]+x[i+14]+x[i+15]+x[i+16])*0.2\n",
    "    if df1['Apple_total_counts'][i]>=40:\n",
    "        df1.loc[i,'Apple_classification']=1\n",
    "    else:\n",
    "        df1.loc[i,'Apple_classification']=0"
   ]
  },
  {
   "cell_type": "code",
   "execution_count": 87,
   "id": "192c0d5a",
   "metadata": {},
   "outputs": [
    {
     "ename": "KeyError",
     "evalue": "48910",
     "output_type": "error",
     "traceback": [
      "\u001b[1;31m---------------------------------------------------------------------------\u001b[0m",
      "\u001b[1;31mValueError\u001b[0m                                Traceback (most recent call last)",
      "\u001b[1;32mD:\\Ana\\lib\\site-packages\\pandas\\core\\indexes\\range.py\u001b[0m in \u001b[0;36mget_loc\u001b[1;34m(self, key, method, tolerance)\u001b[0m\n\u001b[0;32m    350\u001b[0m                 \u001b[1;32mtry\u001b[0m\u001b[1;33m:\u001b[0m\u001b[1;33m\u001b[0m\u001b[1;33m\u001b[0m\u001b[0m\n\u001b[1;32m--> 351\u001b[1;33m                     \u001b[1;32mreturn\u001b[0m \u001b[0mself\u001b[0m\u001b[1;33m.\u001b[0m\u001b[0m_range\u001b[0m\u001b[1;33m.\u001b[0m\u001b[0mindex\u001b[0m\u001b[1;33m(\u001b[0m\u001b[0mnew_key\u001b[0m\u001b[1;33m)\u001b[0m\u001b[1;33m\u001b[0m\u001b[1;33m\u001b[0m\u001b[0m\n\u001b[0m\u001b[0;32m    352\u001b[0m                 \u001b[1;32mexcept\u001b[0m \u001b[0mValueError\u001b[0m \u001b[1;32mas\u001b[0m \u001b[0merr\u001b[0m\u001b[1;33m:\u001b[0m\u001b[1;33m\u001b[0m\u001b[1;33m\u001b[0m\u001b[0m\n",
      "\u001b[1;31mValueError\u001b[0m: 48910 is not in range",
      "\nThe above exception was the direct cause of the following exception:\n",
      "\u001b[1;31mKeyError\u001b[0m                                  Traceback (most recent call last)",
      "\u001b[1;32m<ipython-input-87-6c0dfcf51c0c>\u001b[0m in \u001b[0;36m<module>\u001b[1;34m\u001b[0m\n\u001b[0;32m      1\u001b[0m \u001b[1;32mfor\u001b[0m \u001b[0mi\u001b[0m \u001b[1;32min\u001b[0m \u001b[0mrange\u001b[0m\u001b[1;33m(\u001b[0m\u001b[1;36m48910\u001b[0m\u001b[1;33m,\u001b[0m\u001b[1;36m49200\u001b[0m\u001b[1;33m)\u001b[0m\u001b[1;33m:\u001b[0m\u001b[1;33m\u001b[0m\u001b[1;33m\u001b[0m\u001b[0m\n\u001b[1;32m----> 2\u001b[1;33m     \u001b[0mdf1\u001b[0m\u001b[1;33m.\u001b[0m\u001b[0mloc\u001b[0m\u001b[1;33m[\u001b[0m\u001b[0mi\u001b[0m\u001b[1;33m,\u001b[0m\u001b[1;34m'Apple_total_counts'\u001b[0m\u001b[1;33m]\u001b[0m\u001b[1;33m=\u001b[0m\u001b[1;33m(\u001b[0m\u001b[0mx\u001b[0m\u001b[1;33m[\u001b[0m\u001b[0mi\u001b[0m\u001b[1;33m]\u001b[0m\u001b[1;33m+\u001b[0m\u001b[0mx\u001b[0m\u001b[1;33m[\u001b[0m\u001b[0mi\u001b[0m\u001b[1;33m+\u001b[0m\u001b[1;36m1\u001b[0m\u001b[1;33m]\u001b[0m\u001b[1;33m+\u001b[0m\u001b[0mx\u001b[0m\u001b[1;33m[\u001b[0m\u001b[0mi\u001b[0m\u001b[1;33m+\u001b[0m\u001b[1;36m2\u001b[0m\u001b[1;33m]\u001b[0m\u001b[1;33m+\u001b[0m\u001b[0mx\u001b[0m\u001b[1;33m[\u001b[0m\u001b[0mi\u001b[0m\u001b[1;33m+\u001b[0m\u001b[1;36m3\u001b[0m\u001b[1;33m]\u001b[0m\u001b[1;33m)\u001b[0m\u001b[1;33m*\u001b[0m\u001b[1;36m0.04\u001b[0m\u001b[1;33m+\u001b[0m\u001b[1;33m(\u001b[0m\u001b[0mx\u001b[0m\u001b[1;33m[\u001b[0m\u001b[0mi\u001b[0m\u001b[1;33m+\u001b[0m\u001b[1;36m4\u001b[0m\u001b[1;33m]\u001b[0m\u001b[1;33m+\u001b[0m\u001b[0mx\u001b[0m\u001b[1;33m[\u001b[0m\u001b[0mi\u001b[0m\u001b[1;33m+\u001b[0m\u001b[1;36m5\u001b[0m\u001b[1;33m]\u001b[0m\u001b[1;33m+\u001b[0m\u001b[0mx\u001b[0m\u001b[1;33m[\u001b[0m\u001b[0mi\u001b[0m\u001b[1;33m+\u001b[0m\u001b[1;36m6\u001b[0m\u001b[1;33m]\u001b[0m\u001b[1;33m+\u001b[0m\u001b[0mx\u001b[0m\u001b[1;33m[\u001b[0m\u001b[0mi\u001b[0m\u001b[1;33m+\u001b[0m\u001b[1;36m7\u001b[0m\u001b[1;33m]\u001b[0m\u001b[1;33m)\u001b[0m\u001b[1;33m*\u001b[0m\u001b[1;36m0.2\u001b[0m\u001b[1;33m+\u001b[0m\u001b[1;36m4\u001b[0m\u001b[1;33m*\u001b[0m\u001b[0mx\u001b[0m\u001b[1;33m[\u001b[0m\u001b[0mi\u001b[0m\u001b[1;33m+\u001b[0m\u001b[1;36m8\u001b[0m\u001b[1;33m]\u001b[0m\u001b[1;33m+\u001b[0m\u001b[1;33m(\u001b[0m\u001b[0mx\u001b[0m\u001b[1;33m[\u001b[0m\u001b[0mi\u001b[0m\u001b[1;33m+\u001b[0m\u001b[1;36m9\u001b[0m\u001b[1;33m]\u001b[0m\u001b[1;33m+\u001b[0m\u001b[0mx\u001b[0m\u001b[1;33m[\u001b[0m\u001b[0mi\u001b[0m\u001b[1;33m+\u001b[0m\u001b[1;36m10\u001b[0m\u001b[1;33m]\u001b[0m\u001b[1;33m+\u001b[0m\u001b[0mx\u001b[0m\u001b[1;33m[\u001b[0m\u001b[0mi\u001b[0m\u001b[1;33m+\u001b[0m\u001b[1;36m11\u001b[0m\u001b[1;33m]\u001b[0m\u001b[1;33m+\u001b[0m\u001b[0mx\u001b[0m\u001b[1;33m[\u001b[0m\u001b[0mi\u001b[0m\u001b[1;33m+\u001b[0m\u001b[1;36m12\u001b[0m\u001b[1;33m]\u001b[0m\u001b[1;33m)\u001b[0m\u001b[1;33m*\u001b[0m\u001b[1;36m0.04\u001b[0m\u001b[1;33m+\u001b[0m\u001b[1;33m(\u001b[0m\u001b[0mx\u001b[0m\u001b[1;33m[\u001b[0m\u001b[0mi\u001b[0m\u001b[1;33m+\u001b[0m\u001b[1;36m13\u001b[0m\u001b[1;33m]\u001b[0m\u001b[1;33m+\u001b[0m\u001b[0mx\u001b[0m\u001b[1;33m[\u001b[0m\u001b[0mi\u001b[0m\u001b[1;33m+\u001b[0m\u001b[1;36m14\u001b[0m\u001b[1;33m]\u001b[0m\u001b[1;33m+\u001b[0m\u001b[0mx\u001b[0m\u001b[1;33m[\u001b[0m\u001b[0mi\u001b[0m\u001b[1;33m+\u001b[0m\u001b[1;36m15\u001b[0m\u001b[1;33m]\u001b[0m\u001b[1;33m+\u001b[0m\u001b[0mx\u001b[0m\u001b[1;33m[\u001b[0m\u001b[0mi\u001b[0m\u001b[1;33m+\u001b[0m\u001b[1;36m16\u001b[0m\u001b[1;33m]\u001b[0m\u001b[1;33m)\u001b[0m\u001b[1;33m*\u001b[0m\u001b[1;36m0.2\u001b[0m\u001b[1;33m\u001b[0m\u001b[1;33m\u001b[0m\u001b[0m\n\u001b[0m\u001b[0;32m      3\u001b[0m     \u001b[1;32mif\u001b[0m \u001b[0mdf1\u001b[0m\u001b[1;33m[\u001b[0m\u001b[1;34m'Apple_total_counts'\u001b[0m\u001b[1;33m]\u001b[0m\u001b[1;33m[\u001b[0m\u001b[0mi\u001b[0m\u001b[1;33m]\u001b[0m\u001b[1;33m>=\u001b[0m\u001b[1;36m20\u001b[0m\u001b[1;33m:\u001b[0m\u001b[1;33m\u001b[0m\u001b[1;33m\u001b[0m\u001b[0m\n\u001b[0;32m      4\u001b[0m         \u001b[0mdf1\u001b[0m\u001b[1;33m.\u001b[0m\u001b[0mloc\u001b[0m\u001b[1;33m[\u001b[0m\u001b[0mi\u001b[0m\u001b[1;33m,\u001b[0m\u001b[1;34m'Apple_classification'\u001b[0m\u001b[1;33m]\u001b[0m\u001b[1;33m=\u001b[0m\u001b[1;36m1\u001b[0m\u001b[1;33m\u001b[0m\u001b[1;33m\u001b[0m\u001b[0m\n\u001b[0;32m      5\u001b[0m     \u001b[1;32melse\u001b[0m\u001b[1;33m:\u001b[0m\u001b[1;33m\u001b[0m\u001b[1;33m\u001b[0m\u001b[0m\n",
      "\u001b[1;32mD:\\Ana\\lib\\site-packages\\pandas\\core\\series.py\u001b[0m in \u001b[0;36m__getitem__\u001b[1;34m(self, key)\u001b[0m\n\u001b[0;32m    851\u001b[0m \u001b[1;33m\u001b[0m\u001b[0m\n\u001b[0;32m    852\u001b[0m         \u001b[1;32melif\u001b[0m \u001b[0mkey_is_scalar\u001b[0m\u001b[1;33m:\u001b[0m\u001b[1;33m\u001b[0m\u001b[1;33m\u001b[0m\u001b[0m\n\u001b[1;32m--> 853\u001b[1;33m             \u001b[1;32mreturn\u001b[0m \u001b[0mself\u001b[0m\u001b[1;33m.\u001b[0m\u001b[0m_get_value\u001b[0m\u001b[1;33m(\u001b[0m\u001b[0mkey\u001b[0m\u001b[1;33m)\u001b[0m\u001b[1;33m\u001b[0m\u001b[1;33m\u001b[0m\u001b[0m\n\u001b[0m\u001b[0;32m    854\u001b[0m \u001b[1;33m\u001b[0m\u001b[0m\n\u001b[0;32m    855\u001b[0m         \u001b[1;32mif\u001b[0m \u001b[0mis_hashable\u001b[0m\u001b[1;33m(\u001b[0m\u001b[0mkey\u001b[0m\u001b[1;33m)\u001b[0m\u001b[1;33m:\u001b[0m\u001b[1;33m\u001b[0m\u001b[1;33m\u001b[0m\u001b[0m\n",
      "\u001b[1;32mD:\\Ana\\lib\\site-packages\\pandas\\core\\series.py\u001b[0m in \u001b[0;36m_get_value\u001b[1;34m(self, label, takeable)\u001b[0m\n\u001b[0;32m    959\u001b[0m \u001b[1;33m\u001b[0m\u001b[0m\n\u001b[0;32m    960\u001b[0m         \u001b[1;31m# Similar to Index.get_value, but we do not fall back to positional\u001b[0m\u001b[1;33m\u001b[0m\u001b[1;33m\u001b[0m\u001b[1;33m\u001b[0m\u001b[0m\n\u001b[1;32m--> 961\u001b[1;33m         \u001b[0mloc\u001b[0m \u001b[1;33m=\u001b[0m \u001b[0mself\u001b[0m\u001b[1;33m.\u001b[0m\u001b[0mindex\u001b[0m\u001b[1;33m.\u001b[0m\u001b[0mget_loc\u001b[0m\u001b[1;33m(\u001b[0m\u001b[0mlabel\u001b[0m\u001b[1;33m)\u001b[0m\u001b[1;33m\u001b[0m\u001b[1;33m\u001b[0m\u001b[0m\n\u001b[0m\u001b[0;32m    962\u001b[0m         \u001b[1;32mreturn\u001b[0m \u001b[0mself\u001b[0m\u001b[1;33m.\u001b[0m\u001b[0mindex\u001b[0m\u001b[1;33m.\u001b[0m\u001b[0m_get_values_for_loc\u001b[0m\u001b[1;33m(\u001b[0m\u001b[0mself\u001b[0m\u001b[1;33m,\u001b[0m \u001b[0mloc\u001b[0m\u001b[1;33m,\u001b[0m \u001b[0mlabel\u001b[0m\u001b[1;33m)\u001b[0m\u001b[1;33m\u001b[0m\u001b[1;33m\u001b[0m\u001b[0m\n\u001b[0;32m    963\u001b[0m \u001b[1;33m\u001b[0m\u001b[0m\n",
      "\u001b[1;32mD:\\Ana\\lib\\site-packages\\pandas\\core\\indexes\\range.py\u001b[0m in \u001b[0;36mget_loc\u001b[1;34m(self, key, method, tolerance)\u001b[0m\n\u001b[0;32m    351\u001b[0m                     \u001b[1;32mreturn\u001b[0m \u001b[0mself\u001b[0m\u001b[1;33m.\u001b[0m\u001b[0m_range\u001b[0m\u001b[1;33m.\u001b[0m\u001b[0mindex\u001b[0m\u001b[1;33m(\u001b[0m\u001b[0mnew_key\u001b[0m\u001b[1;33m)\u001b[0m\u001b[1;33m\u001b[0m\u001b[1;33m\u001b[0m\u001b[0m\n\u001b[0;32m    352\u001b[0m                 \u001b[1;32mexcept\u001b[0m \u001b[0mValueError\u001b[0m \u001b[1;32mas\u001b[0m \u001b[0merr\u001b[0m\u001b[1;33m:\u001b[0m\u001b[1;33m\u001b[0m\u001b[1;33m\u001b[0m\u001b[0m\n\u001b[1;32m--> 353\u001b[1;33m                     \u001b[1;32mraise\u001b[0m \u001b[0mKeyError\u001b[0m\u001b[1;33m(\u001b[0m\u001b[0mkey\u001b[0m\u001b[1;33m)\u001b[0m \u001b[1;32mfrom\u001b[0m \u001b[0merr\u001b[0m\u001b[1;33m\u001b[0m\u001b[1;33m\u001b[0m\u001b[0m\n\u001b[0m\u001b[0;32m    354\u001b[0m             \u001b[1;32mraise\u001b[0m \u001b[0mKeyError\u001b[0m\u001b[1;33m(\u001b[0m\u001b[0mkey\u001b[0m\u001b[1;33m)\u001b[0m\u001b[1;33m\u001b[0m\u001b[1;33m\u001b[0m\u001b[0m\n\u001b[0;32m    355\u001b[0m         \u001b[1;32mreturn\u001b[0m \u001b[0msuper\u001b[0m\u001b[1;33m(\u001b[0m\u001b[1;33m)\u001b[0m\u001b[1;33m.\u001b[0m\u001b[0mget_loc\u001b[0m\u001b[1;33m(\u001b[0m\u001b[0mkey\u001b[0m\u001b[1;33m,\u001b[0m \u001b[0mmethod\u001b[0m\u001b[1;33m=\u001b[0m\u001b[0mmethod\u001b[0m\u001b[1;33m,\u001b[0m \u001b[0mtolerance\u001b[0m\u001b[1;33m=\u001b[0m\u001b[0mtolerance\u001b[0m\u001b[1;33m)\u001b[0m\u001b[1;33m\u001b[0m\u001b[1;33m\u001b[0m\u001b[0m\n",
      "\u001b[1;31mKeyError\u001b[0m: 48910"
     ]
    }
   ],
   "source": [
    "for i in range(48910,49200):\n",
    "    df1.loc[i,'Apple_total_counts']=(x[i]+x[i+1]+x[i+2]+x[i+3])*0.04+(x[i+4]+x[i+5]+x[i+6]+x[i+7])*0.2+4*x[i+8]+(x[i+9]+x[i+10]+x[i+11]+x[i+12])*0.04+(x[i+13]+x[i+14]+x[i+15]+x[i+16])*0.2\n",
    "    if df1['Apple_total_counts'][i]>=20:\n",
    "        df1.loc[i,'Apple_classification']=1\n",
    "    else:\n",
    "        df1.loc[i,'Apple_classification']=0"
   ]
  },
  {
   "cell_type": "code",
   "execution_count": 88,
   "id": "3cf9ef9b",
   "metadata": {},
   "outputs": [],
   "source": [
    "df1.dropna(subset=['Apple_total_counts'], inplace=True)"
   ]
  },
  {
   "cell_type": "code",
   "execution_count": 89,
   "id": "f6707ad0-e5bb-47f7-8c66-a4c78fc89dff",
   "metadata": {},
   "outputs": [],
   "source": [
    "import numpy as np\n",
    "import pandas as pd\n",
    "import matplotlib.pyplot as plt\n",
    "from sklearn.model_selection import train_test_split\n",
    "from sklearn.linear_model import LinearRegression\n",
    "from sklearn.preprocessing import PolynomialFeatures\n",
    "from sklearn.pipeline import make_pipeline\n",
    "from sklearn.metrics import r2_score, mean_squared_error\n",
    "from sklearn.metrics import confusion_matrix, classification_report\n",
    "from sklearn import linear_model\n",
    "import seaborn as sn\n",
    "from sklearn.metrics import cohen_kappa_score, matthews_corrcoef\n",
    "from sklearn.metrics import roc_curve\n",
    "import glob\n",
    "import os\n",
    "import pandas as pd\n",
    "from sklearn import metrics"
   ]
  },
  {
   "cell_type": "code",
   "execution_count": 90,
   "id": "8b5300bd",
   "metadata": {},
   "outputs": [
    {
     "name": "stdout",
     "output_type": "stream",
     "text": [
      "Confusion Matrix:\n",
      "[[40561  3565]\n",
      " [ 2460  1285]]\n"
     ]
    },
    {
     "data": {
      "text/plain": [
       "<AxesSubplot:>"
      ]
     },
     "execution_count": 90,
     "metadata": {},
     "output_type": "execute_result"
    },
    {
     "data": {
      "image/png": "[encoded data removed]",
      "text/plain": [
       "<Figure size 432x288 with 2 Axes>"
      ]
     },
     "metadata": {
      "needs_background": "light"
     },
     "output_type": "display_data"
    }
   ],
   "source": [
    "y_true = df1['Actiware classification'].astype(int)\n",
    "y_pred = df1['Apple_classification'].astype(int)\n",
    "\n",
    "confusion_matrix_1=confusion_matrix(y_true,y_pred)\n",
    "\n",
    "print(\"Confusion Matrix:\",confusion_matrix_1,sep=\"\\n\")\n",
    "\n",
    "\n",
    "\n",
    "#plot Confusion_matrix\n",
    "group_names = ['TP','FP','FN','TN']\n",
    "group_counts = ['{0:0.0f}'.format(value) for value in confusion_matrix_1.flatten()]\n",
    "group_percentages = ['{0:.2%}'.format(value) for value in confusion_matrix_1.flatten()/np.sum(confusion_matrix_1)]\n",
    "labels = [f'{v1}\\n{v2}\\n{v3}' for v1, v2, v3 in zip(group_names,group_counts,group_percentages)]\n",
    "labels = np.asarray(labels).reshape(2,2)\n",
    "sn.heatmap(confusion_matrix_1, annot=labels, fmt='', cmap='Blues')\n"
   ]
  },
  {
   "cell_type": "code",
   "execution_count": 91,
   "id": "101f84c5",
   "metadata": {},
   "outputs": [
    {
     "name": "stdout",
     "output_type": "stream",
     "text": [
      "classification_report:\n",
      "              precision    recall  f1-score   support\n",
      "\n",
      "           0       0.94      0.92      0.93     44126\n",
      "           1       0.26      0.34      0.30      3745\n",
      "\n",
      "    accuracy                           0.87     47871\n",
      "   macro avg       0.60      0.63      0.61     47871\n",
      "weighted avg       0.89      0.87      0.88     47871\n",
      "\n",
      "Cohen’s Kappa score: 0.23112836771138623\n",
      "Matthews correlation coefficient score: 0.2334611704704649\n"
     ]
    }
   ],
   "source": [
    "#generate classification_report\n",
    "r_1 = classification_report(y_true,y_pred)\n",
    "print(\"classification_report:\",r_1,sep=\"\\n\")\n",
    "\n",
    "print(\"Cohen’s Kappa score:\", cohen_kappa_score(y_true, y_pred))\n",
    "print(\"Matthews correlation coefficient score:\", matthews_corrcoef(y_true, y_pred))"
   ]
  },
  {
   "cell_type": "code",
   "execution_count": 92,
   "id": "9a2c31a1-9712-4a92-a58a-c3b63ce22f23",
   "metadata": {},
   "outputs": [
    {
     "data": {
      "image/png": "[encoded data removed]",
      "text/plain": [
       "<Figure size 432x288 with 1 Axes>"
      ]
     },
     "metadata": {
      "needs_background": "light"
     },
     "output_type": "display_data"
    }
   ],
   "source": [
    "#plot ROC curve\n",
    "fpr, tpr, threshold = metrics.roc_curve(y_true, y_pred)\n",
    "roc_auc = metrics.auc(fpr, tpr)\n",
    "\n",
    "plt.title('Receiver Operating Characteristic')\n",
    "plt.plot(fpr, tpr, 'b', label='AUC = %0.2f' % roc_auc)\n",
    "plt.legend(loc='lower right')\n",
    "plt.plot([0, 1], [0, 1], 'r--')\n",
    "plt.xlim([0, 1])\n",
    "plt.ylim([0, 1])\n",
    "plt.ylabel('True Positive Rate')\n",
    "plt.xlabel('False Positive Rate')\n",
    "plt.show()"
   ]
  },
  {
   "cell_type": "code",
   "execution_count": 93,
   "id": "c24080e7-1df1-4506-9008-aad6c4902829",
   "metadata": {},
   "outputs": [
    {
     "name": "stdout",
     "output_type": "stream",
     "text": [
      "TN,FP,FN,TP: 40561 3565 2460 1285\n",
      "precision: 8.363092783505154\n",
      "recall: 10.830707610146863\n",
      "accuracy: 0.8741409203902154\n"
     ]
    }
   ],
   "source": [
    "from sklearn.metrics import confusion_matrix\n",
    "y_true = df1['Actiware classification']\n",
    "y_pred = df1['Apple_classification']\n",
    "confusion_matrix(y_true, y_pred)\n",
    "TN, FP, FN, TP = confusion_matrix(y_true, y_pred).ravel()\n",
    "\n",
    "# Sensitivity, hit rate, recall, or true positive rate\n",
    "TPR = TP/(TP+FN)\n",
    "# Specificity or true negative rate\n",
    "TNR = TN/(TN+FP) \n",
    "# Precision or positive predictive value\n",
    "PPV = TP/(TP+FP)\n",
    "# Negative predictive value\n",
    "NPV = TN/(TN+FN)\n",
    "# Fall out or false positive rate\n",
    "FPR = FP/(FP+TN)\n",
    "# False negative rate\n",
    "FNR = FN/(TP+FN)\n",
    "# False discovery rate\n",
    "FDR = FP/(TP+FP)\n",
    "\n",
    "precision = TN / (TP+FP)  # 查准率\n",
    "recall = TN / (TP+FN)  # 查全率\n",
    "accuracy = (TP+TN)/(TP+TN+FP+FN)\n",
    "print(\"TN,FP,FN,TP:\",TN,FP,FN,TP)\n",
    "print(\"precision:\",precision)\n",
    "print(\"recall:\",recall)\n",
    "print(\"accuracy:\",accuracy)"
   ]
  },
  {
   "cell_type": "markdown",
   "id": "ef4c77de",
   "metadata": {},
   "source": [
    "###### "
   ]
  },
  {
   "cell_type": "code",
   "execution_count": null,
   "id": "92390bca-2f30-41f6-bf87-dfa8231a8d1c",
   "metadata": {},
   "outputs": [],
   "source": []
  }
 ],
 "metadata": {
  "kernelspec": {
   "display_name": "Python 3",
   "language": "python",
   "name": "python3"
  },
  "language_info": {
   "codemirror_mode": {
    "name": "ipython",
    "version": 3
   },
   "file_extension": ".py",
   "mimetype": "text/x-python",
   "name": "python",
   "nbconvert_exporter": "python",
   "pygments_lexer": "ipython3",
   "version": "3.8.8"
  }
 },
 "nbformat": 4,
 "nbformat_minor": 5
}
