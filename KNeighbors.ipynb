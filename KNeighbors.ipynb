{
 "cells": [
  {
   "cell_type": "code",
   "execution_count": 1,
   "id": "4d187297",
   "metadata": {},
   "outputs": [],
   "source": [
    "import numpy as np\n",
    "import pandas as pd\n",
    "import matplotlib.pyplot as plt\n",
    "from sklearn.model_selection import train_test_split\n",
    "from sklearn.linear_model import LinearRegression\n",
    "from sklearn.preprocessing import PolynomialFeatures\n",
    "from sklearn.pipeline import make_pipeline\n",
    "from sklearn.metrics import r2_score, mean_squared_error\n",
    "from sklearn.metrics import confusion_matrix, classification_report\n",
    "from sklearn import linear_model\n",
    "import seaborn as sn\n",
    "from sklearn.metrics import cohen_kappa_score, matthews_corrcoef\n",
    "from sklearn.metrics import roc_curve\n",
    "import glob\n",
    "import os\n",
    "import pandas as pd"
   ]
  },
  {
   "cell_type": "code",
   "execution_count": 2,
   "id": "e0d1d122-cf5b-431b-9dbc-93b2afc15772",
   "metadata": {},
   "outputs": [],
   "source": [
    "folder_name = 'data'\n",
    "file_type = 'csv'\n",
    "seperator =','\n",
    "df = pd.concat([pd.read_csv(f, sep=seperator) for f in glob.glob(folder_name + \"/*.\"+file_type)],ignore_index=True)"
   ]
  },
  {
   "cell_type": "code",
   "execution_count": 3,
   "id": "3ef5c072",
   "metadata": {
    "scrolled": true
   },
   "outputs": [
    {
     "name": "stdout",
     "output_type": "stream",
     "text": [
      "<class 'pandas.core.frame.DataFrame'>\n",
      "Int64Index: 48909 entries, 15 to 49310\n",
      "Data columns (total 4 columns):\n",
      " #   Column                     Non-Null Count  Dtype  \n",
      "---  ------                     --------------  -----  \n",
      " 0   timestamp                  48909 non-null  object \n",
      " 1   Actiwatch activity counts  48909 non-null  float64\n",
      " 2   Actiware classification    48909 non-null  float64\n",
      " 3   Apple Watch ENMO           48909 non-null  float64\n",
      "dtypes: float64(3), object(1)\n",
      "memory usage: 1.9+ MB\n",
      "None\n"
     ]
    }
   ],
   "source": [
    "df.dropna(subset=['Actiwatch activity counts','Actiware classification', 'Apple Watch ENMO'], inplace=True)\n",
    "print(df.info())"
   ]
  },
  {
   "cell_type": "code",
   "execution_count": 4,
   "id": "85c14e87",
   "metadata": {},
   "outputs": [
    {
     "data": {
      "text/html": [
       "<div>\n",
       "<style scoped>\n",
       "    .dataframe tbody tr th:only-of-type {\n",
       "        vertical-align: middle;\n",
       "    }\n",
       "\n",
       "    .dataframe tbody tr th {\n",
       "        vertical-align: top;\n",
       "    }\n",
       "\n",
       "    .dataframe thead th {\n",
       "        text-align: right;\n",
       "    }\n",
       "</style>\n",
       "<table border=\"1\" class=\"dataframe\">\n",
       "  <thead>\n",
       "    <tr style=\"text-align: right;\">\n",
       "      <th></th>\n",
       "      <th>Actiwatch activity counts</th>\n",
       "      <th>Actiware classification</th>\n",
       "      <th>Apple Watch ENMO</th>\n",
       "    </tr>\n",
       "  </thead>\n",
       "  <tbody>\n",
       "    <tr>\n",
       "      <th>count</th>\n",
       "      <td>48909.000000</td>\n",
       "      <td>48909.000000</td>\n",
       "      <td>48909.000000</td>\n",
       "    </tr>\n",
       "    <tr>\n",
       "      <th>mean</th>\n",
       "      <td>3.670265</td>\n",
       "      <td>0.079454</td>\n",
       "      <td>0.006038</td>\n",
       "    </tr>\n",
       "    <tr>\n",
       "      <th>std</th>\n",
       "      <td>22.043379</td>\n",
       "      <td>0.270448</td>\n",
       "      <td>0.018776</td>\n",
       "    </tr>\n",
       "    <tr>\n",
       "      <th>min</th>\n",
       "      <td>0.000000</td>\n",
       "      <td>0.000000</td>\n",
       "      <td>0.000505</td>\n",
       "    </tr>\n",
       "    <tr>\n",
       "      <th>25%</th>\n",
       "      <td>0.000000</td>\n",
       "      <td>0.000000</td>\n",
       "      <td>0.001893</td>\n",
       "    </tr>\n",
       "    <tr>\n",
       "      <th>50%</th>\n",
       "      <td>0.000000</td>\n",
       "      <td>0.000000</td>\n",
       "      <td>0.003015</td>\n",
       "    </tr>\n",
       "    <tr>\n",
       "      <th>75%</th>\n",
       "      <td>0.000000</td>\n",
       "      <td>0.000000</td>\n",
       "      <td>0.004701</td>\n",
       "    </tr>\n",
       "    <tr>\n",
       "      <th>max</th>\n",
       "      <td>827.000000</td>\n",
       "      <td>1.000000</td>\n",
       "      <td>1.187258</td>\n",
       "    </tr>\n",
       "  </tbody>\n",
       "</table>\n",
       "</div>"
      ],
      "text/plain": [
       "       Actiwatch activity counts  Actiware classification  Apple Watch ENMO\n",
       "count               48909.000000             48909.000000      48909.000000\n",
       "mean                    3.670265                 0.079454          0.006038\n",
       "std                    22.043379                 0.270448          0.018776\n",
       "min                     0.000000                 0.000000          0.000505\n",
       "25%                     0.000000                 0.000000          0.001893\n",
       "50%                     0.000000                 0.000000          0.003015\n",
       "75%                     0.000000                 0.000000          0.004701\n",
       "max                   827.000000                 1.000000          1.187258"
      ]
     },
     "execution_count": 4,
     "metadata": {},
     "output_type": "execute_result"
    }
   ],
   "source": [
    "df.describe()"
   ]
  },
  {
   "cell_type": "code",
   "execution_count": 5,
   "id": "87f53874-3a81-4d11-9e12-fdc367f3c672",
   "metadata": {},
   "outputs": [
    {
     "data": {
      "image/png": "[encoded data removed]",
      "text/plain": [
       "<Figure size 432x288 with 1 Axes>"
      ]
     },
     "metadata": {
      "needs_background": "light"
     },
     "output_type": "display_data"
    }
   ],
   "source": [
    "X =df.iloc[:,3].values.reshape(-1, 1)\n",
    "y=df.iloc[:,1].values.reshape(-1, 1)\n",
    "\n",
    "plt.scatter(X, y)\n",
    "plt.show()"
   ]
  },
  {
   "cell_type": "code",
   "execution_count": 6,
   "id": "c9fa7829-c4ba-4bbe-9bd3-5e529325cdea",
   "metadata": {},
   "outputs": [],
   "source": [
    "X_train, X_test, y_train, y_test = train_test_split(X, y, test_size = 0.3, random_state = 0)"
   ]
  },
  {
   "cell_type": "code",
   "execution_count": 7,
   "id": "fcce055f",
   "metadata": {},
   "outputs": [
    {
     "name": "stderr",
     "output_type": "stream",
     "text": [
      "D:\\Ana\\lib\\site-packages\\sklearn\\model_selection\\_split.py:666: UserWarning: The least populated class in y has only 1 members, which is less than n_splits=10.\n",
      "  warnings.warn((\"The least populated class in y has only %d\"\n",
      "D:\\Ana\\lib\\site-packages\\sklearn\\model_selection\\_split.py:666: UserWarning: The least populated class in y has only 1 members, which is less than n_splits=10.\n",
      "  warnings.warn((\"The least populated class in y has only %d\"\n",
      "D:\\Ana\\lib\\site-packages\\sklearn\\model_selection\\_split.py:666: UserWarning: The least populated class in y has only 1 members, which is less than n_splits=10.\n",
      "  warnings.warn((\"The least populated class in y has only %d\"\n"
     ]
    },
    {
     "name": "stdout",
     "output_type": "stream",
     "text": [
      "Accuracy: 0.922 (0.001)\n"
     ]
    }
   ],
   "source": [
    "from numpy import mean\n",
    "from numpy import std\n",
    "from pandas import read_csv\n",
    "from sklearn.model_selection import cross_val_score\n",
    "from sklearn.model_selection import RepeatedStratifiedKFold\n",
    "from sklearn.neighbors import KNeighborsClassifier\n",
    "from sklearn.preprocessing import LabelEncoder\n",
    "from sklearn import metrics\n",
    "from matplotlib import pyplot\n",
    "# load dataset\n",
    "model = KNeighborsClassifier()\n",
    "# evaluate the model\n",
    "cv = RepeatedStratifiedKFold(n_splits=10, n_repeats=3, random_state=1)\n",
    "n_scores = cross_val_score(model, X, y, scoring='accuracy', cv=cv, n_jobs=-1, error_score='raise')\n",
    "# report model performance\n",
    "print('Accuracy: %.3f (%.3f)' % (mean(n_scores), std(n_scores)))"
   ]
  },
  {
   "cell_type": "code",
   "execution_count": 8,
   "id": "5e4e751a",
   "metadata": {},
   "outputs": [
    {
     "name": "stderr",
     "output_type": "stream",
     "text": [
      "D:\\Ana\\lib\\site-packages\\sklearn\\neighbors\\_classification.py:179: DataConversionWarning: A column-vector y was passed when a 1d array was expected. Please change the shape of y to (n_samples,), for example using ravel().\n",
      "  return self._fit(X, y)\n",
      "D:\\Ana\\lib\\site-packages\\sklearn\\neighbors\\_classification.py:179: DataConversionWarning: A column-vector y was passed when a 1d array was expected. Please change the shape of y to (n_samples,), for example using ravel().\n",
      "  return self._fit(X, y)\n",
      "D:\\Ana\\lib\\site-packages\\sklearn\\neighbors\\_classification.py:179: DataConversionWarning: A column-vector y was passed when a 1d array was expected. Please change the shape of y to (n_samples,), for example using ravel().\n",
      "  return self._fit(X, y)\n",
      "D:\\Ana\\lib\\site-packages\\sklearn\\neighbors\\_classification.py:179: DataConversionWarning: A column-vector y was passed when a 1d array was expected. Please change the shape of y to (n_samples,), for example using ravel().\n",
      "  return self._fit(X, y)\n",
      "D:\\Ana\\lib\\site-packages\\sklearn\\neighbors\\_classification.py:179: DataConversionWarning: A column-vector y was passed when a 1d array was expected. Please change the shape of y to (n_samples,), for example using ravel().\n",
      "  return self._fit(X, y)\n",
      "D:\\Ana\\lib\\site-packages\\sklearn\\neighbors\\_classification.py:179: DataConversionWarning: A column-vector y was passed when a 1d array was expected. Please change the shape of y to (n_samples,), for example using ravel().\n",
      "  return self._fit(X, y)\n",
      "D:\\Ana\\lib\\site-packages\\sklearn\\neighbors\\_classification.py:179: DataConversionWarning: A column-vector y was passed when a 1d array was expected. Please change the shape of y to (n_samples,), for example using ravel().\n",
      "  return self._fit(X, y)\n",
      "D:\\Ana\\lib\\site-packages\\sklearn\\neighbors\\_classification.py:179: DataConversionWarning: A column-vector y was passed when a 1d array was expected. Please change the shape of y to (n_samples,), for example using ravel().\n",
      "  return self._fit(X, y)\n",
      "D:\\Ana\\lib\\site-packages\\sklearn\\neighbors\\_classification.py:179: DataConversionWarning: A column-vector y was passed when a 1d array was expected. Please change the shape of y to (n_samples,), for example using ravel().\n",
      "  return self._fit(X, y)\n",
      "D:\\Ana\\lib\\site-packages\\sklearn\\neighbors\\_classification.py:179: DataConversionWarning: A column-vector y was passed when a 1d array was expected. Please change the shape of y to (n_samples,), for example using ravel().\n",
      "  return self._fit(X, y)\n",
      "D:\\Ana\\lib\\site-packages\\sklearn\\neighbors\\_classification.py:179: DataConversionWarning: A column-vector y was passed when a 1d array was expected. Please change the shape of y to (n_samples,), for example using ravel().\n",
      "  return self._fit(X, y)\n",
      "D:\\Ana\\lib\\site-packages\\sklearn\\neighbors\\_classification.py:179: DataConversionWarning: A column-vector y was passed when a 1d array was expected. Please change the shape of y to (n_samples,), for example using ravel().\n",
      "  return self._fit(X, y)\n",
      "D:\\Ana\\lib\\site-packages\\sklearn\\neighbors\\_classification.py:179: DataConversionWarning: A column-vector y was passed when a 1d array was expected. Please change the shape of y to (n_samples,), for example using ravel().\n",
      "  return self._fit(X, y)\n",
      "D:\\Ana\\lib\\site-packages\\sklearn\\neighbors\\_classification.py:179: DataConversionWarning: A column-vector y was passed when a 1d array was expected. Please change the shape of y to (n_samples,), for example using ravel().\n",
      "  return self._fit(X, y)\n",
      "D:\\Ana\\lib\\site-packages\\sklearn\\neighbors\\_classification.py:179: DataConversionWarning: A column-vector y was passed when a 1d array was expected. Please change the shape of y to (n_samples,), for example using ravel().\n",
      "  return self._fit(X, y)\n",
      "D:\\Ana\\lib\\site-packages\\sklearn\\neighbors\\_classification.py:179: DataConversionWarning: A column-vector y was passed when a 1d array was expected. Please change the shape of y to (n_samples,), for example using ravel().\n",
      "  return self._fit(X, y)\n",
      "D:\\Ana\\lib\\site-packages\\sklearn\\neighbors\\_classification.py:179: DataConversionWarning: A column-vector y was passed when a 1d array was expected. Please change the shape of y to (n_samples,), for example using ravel().\n",
      "  return self._fit(X, y)\n",
      "D:\\Ana\\lib\\site-packages\\sklearn\\neighbors\\_classification.py:179: DataConversionWarning: A column-vector y was passed when a 1d array was expected. Please change the shape of y to (n_samples,), for example using ravel().\n",
      "  return self._fit(X, y)\n",
      "D:\\Ana\\lib\\site-packages\\sklearn\\neighbors\\_classification.py:179: DataConversionWarning: A column-vector y was passed when a 1d array was expected. Please change the shape of y to (n_samples,), for example using ravel().\n",
      "  return self._fit(X, y)\n",
      "D:\\Ana\\lib\\site-packages\\sklearn\\neighbors\\_classification.py:179: DataConversionWarning: A column-vector y was passed when a 1d array was expected. Please change the shape of y to (n_samples,), for example using ravel().\n",
      "  return self._fit(X, y)\n",
      "D:\\Ana\\lib\\site-packages\\sklearn\\neighbors\\_classification.py:179: DataConversionWarning: A column-vector y was passed when a 1d array was expected. Please change the shape of y to (n_samples,), for example using ravel().\n",
      "  return self._fit(X, y)\n",
      "D:\\Ana\\lib\\site-packages\\sklearn\\neighbors\\_classification.py:179: DataConversionWarning: A column-vector y was passed when a 1d array was expected. Please change the shape of y to (n_samples,), for example using ravel().\n",
      "  return self._fit(X, y)\n",
      "D:\\Ana\\lib\\site-packages\\sklearn\\neighbors\\_classification.py:179: DataConversionWarning: A column-vector y was passed when a 1d array was expected. Please change the shape of y to (n_samples,), for example using ravel().\n",
      "  return self._fit(X, y)\n",
      "D:\\Ana\\lib\\site-packages\\sklearn\\neighbors\\_classification.py:179: DataConversionWarning: A column-vector y was passed when a 1d array was expected. Please change the shape of y to (n_samples,), for example using ravel().\n",
      "  return self._fit(X, y)\n",
      "D:\\Ana\\lib\\site-packages\\sklearn\\neighbors\\_classification.py:179: DataConversionWarning: A column-vector y was passed when a 1d array was expected. Please change the shape of y to (n_samples,), for example using ravel().\n",
      "  return self._fit(X, y)\n"
     ]
    },
    {
     "name": "stdout",
     "output_type": "stream",
     "text": [
      "[0.8974306549444558, 0.9180808287330471, 0.9199209432290602, 0.9223062768350031, 0.9233967150548626, 0.9222381244462619, 0.9221018196687794, 0.9221018196687794, 0.921965514891297, 0.9229878007224154, 0.9229196483336741, 0.9234648674436039, 0.9233285626661214, 0.9232604102773803, 0.923192257888639, 0.923192257888639, 0.9235330198323451, 0.9233967150548626, 0.9234648674436039, 0.9237374769985688, 0.9236011722210864, 0.9238737817760513, 0.92380562938731, 0.9240100865535337, 0.9243508484972398]\n"
     ]
    }
   ],
   "source": [
    "# try K=1 through K=25 and record testing accuracy\n",
    "k_range = range(1, 26)\n",
    "\n",
    "# We can create Python dictionary using [] or dict()\n",
    "scores = []\n",
    "\n",
    "# We use a loop through the range 1 to 26\n",
    "# We append the scores in the dictionary\n",
    "for k in k_range:\n",
    "    knn = KNeighborsClassifier(n_neighbors=k)\n",
    "    knn.fit(X_train, y_train)\n",
    "    y_pred = knn.predict(X_test)\n",
    "    scores.append(metrics.accuracy_score(y_test, y_pred))\n",
    "\n",
    "print(scores)"
   ]
  },
  {
   "cell_type": "code",
   "execution_count": 9,
   "id": "0834f05c",
   "metadata": {},
   "outputs": [
    {
     "data": {
      "text/plain": [
       "Text(0, 0.5, 'Testing Accuracy')"
      ]
     },
     "execution_count": 9,
     "metadata": {},
     "output_type": "execute_result"
    },
    {
     "data": {
      "image/png": "[encoded data removed]",
      "text/plain": [
       "<Figure size 432x288 with 1 Axes>"
      ]
     },
     "metadata": {
      "needs_background": "light"
     },
     "output_type": "display_data"
    }
   ],
   "source": [
    "# allow plots to appear within the notebook\n",
    "%matplotlib inline\n",
    "\n",
    "# plot the relationship between K and testing accuracy\n",
    "# plt.plot(x_axis, y_axis)\n",
    "plt.plot(k_range, scores)\n",
    "plt.xlabel('Value of K for KNN')\n",
    "plt.ylabel('Testing Accuracy')"
   ]
  },
  {
   "cell_type": "code",
   "execution_count": 10,
   "id": "ca804fc1",
   "metadata": {},
   "outputs": [
    {
     "name": "stdout",
     "output_type": "stream",
     "text": [
      "                 timestamp  Actiwatch activity counts  \\\n",
      "15           1/1/2000 1:20                        0.0   \n",
      "16           1/1/2000 1:21                       24.0   \n",
      "17           1/1/2000 1:21                        3.0   \n",
      "18           1/1/2000 1:21                        0.0   \n",
      "19           1/1/2000 1:21                        3.0   \n",
      "...                    ...                        ...   \n",
      "49306  28/01/2000 08:56:30                      113.0   \n",
      "49307  28/01/2000 08:56:45                       79.0   \n",
      "49308  28/01/2000 08:57:00                       88.0   \n",
      "49309  28/01/2000 08:57:15                       73.0   \n",
      "49310  28/01/2000 08:57:30                      208.0   \n",
      "\n",
      "       Actiware classification  Apple Watch ENMO  Apple_pred  \n",
      "15                         1.0          0.007234         0.0  \n",
      "16                         1.0          0.030109        46.0  \n",
      "17                         1.0          0.008785         0.0  \n",
      "18                         1.0          0.007893         0.0  \n",
      "19                         1.0          0.007761         0.0  \n",
      "...                        ...               ...         ...  \n",
      "49306                      1.0          0.071673        73.0  \n",
      "49307                      1.0          0.072491        91.0  \n",
      "49308                      1.0          0.079414        88.0  \n",
      "49309                      1.0          0.093463       125.0  \n",
      "49310                      1.0          0.161290       164.0  \n",
      "\n",
      "[48909 rows x 5 columns]\n"
     ]
    }
   ],
   "source": [
    "Apple_pred = knn.predict(X)\n",
    "df.dropna(subset=['Actiwatch activity counts','Actiware classification'], inplace=True)\n",
    "df['Apple_pred'] = Apple_pred\n",
    "\n",
    "print(df)\n",
    "df.to_csv('new_df.csv')"
   ]
  },
  {
   "cell_type": "code",
   "execution_count": 11,
   "id": "9999427a",
   "metadata": {},
   "outputs": [
    {
     "name": "stdout",
     "output_type": "stream",
     "text": [
      "         Unnamed: 0  Actiwatch activity counts  Actiware classification  \\\n",
      "count  48909.000000               48909.000000             48909.000000   \n",
      "mean   24677.156168                   3.670265                 0.079454   \n",
      "std    14237.276164                  22.043379                 0.270448   \n",
      "min       15.000000                   0.000000                 0.000000   \n",
      "25%    12328.000000                   0.000000                 0.000000   \n",
      "50%    24691.000000                   0.000000                 0.000000   \n",
      "75%    37009.000000                   0.000000                 0.000000   \n",
      "max    49310.000000                 827.000000                 1.000000   \n",
      "\n",
      "       Apple Watch ENMO    Apple_pred  \n",
      "count      48909.000000  48909.000000  \n",
      "mean           0.006038      2.033961  \n",
      "std            0.018776     15.461641  \n",
      "min            0.000505      0.000000  \n",
      "25%            0.001893      0.000000  \n",
      "50%            0.003015      0.000000  \n",
      "75%            0.004701      0.000000  \n",
      "max            1.187258    350.000000  \n"
     ]
    }
   ],
   "source": [
    "data1=pd.read_csv('new_df.csv')\n",
    "print(data1.describe())"
   ]
  },
  {
   "cell_type": "code",
   "execution_count": 12,
   "id": "8dd25daa",
   "metadata": {},
   "outputs": [],
   "source": [
    "x = data1['Apple_pred']\n",
    "#for i in range:\n",
    "for i in range(15,1520):\n",
    "    data1.loc[i,'Apple_total_counts']=(x[i]+x[i+1]+x[i+2]+x[i+3])*0.04+(x[i+4]+x[i+5]+x[i+6]+x[i+7])*0.2+4*x[i+8]+(x[i+9]+x[i+10]+x[i+11]+x[i+12])*0.04+(x[i+13]+x[i+14]+x[i+15]+x[i+16])*0.2\n",
    "    if data1['Apple_total_counts'][i]>=20:\n",
    "        data1.loc[i,'Apple_classification']=1\n",
    "    else:\n",
    "        data1.loc[i,'Apple_classification']=0"
   ]
  },
  {
   "cell_type": "code",
   "execution_count": 13,
   "id": "a86b2198",
   "metadata": {},
   "outputs": [],
   "source": [
    "for i in range(1541,3210):\n",
    "    data1.loc[i,'Apple_total_counts']=(x[i]+x[i+1]+x[i+2]+x[i+3])*0.04+(x[i+4]+x[i+5]+x[i+6]+x[i+7])*0.2+4*x[i+8]+(x[i+9]+x[i+10]+x[i+11]+x[i+12])*0.04+(x[i+13]+x[i+14]+x[i+15]+x[i+16])*0.2\n",
    "    if data1['Apple_total_counts'][i]>=20:\n",
    "        data1.loc[i,'Apple_classification']=1\n",
    "    else:\n",
    "        data1.loc[i,'Apple_classification']=0"
   ]
  },
  {
   "cell_type": "code",
   "execution_count": 14,
   "id": "9a8122df",
   "metadata": {},
   "outputs": [],
   "source": [
    "for i in range(3231,5297):\n",
    "    data1.loc[i,'Apple_total_counts']=(x[i]+x[i+1]+x[i+2]+x[i+3])*0.04+(x[i+4]+x[i+5]+x[i+6]+x[i+7])*0.2+4*x[i+8]+(x[i+9]+x[i+10]+x[i+11]+x[i+12])*0.04+(x[i+13]+x[i+14]+x[i+15]+x[i+16])*0.2\n",
    "    if data1['Apple_total_counts'][i]>=20:\n",
    "        data1.loc[i,'Apple_classification']=1\n",
    "    else:\n",
    "        data1.loc[i,'Apple_classification']=0"
   ]
  },
  {
   "cell_type": "code",
   "execution_count": 15,
   "id": "4ff27fbc",
   "metadata": {},
   "outputs": [],
   "source": [
    "for i in range(5322,7305):\n",
    "    data1.loc[i,'Apple_total_counts']=(x[i]+x[i+1]+x[i+2]+x[i+3])*0.04+(x[i+4]+x[i+5]+x[i+6]+x[i+7])*0.2+4*x[i+8]+(x[i+9]+x[i+10]+x[i+11]+x[i+12])*0.04+(x[i+13]+x[i+14]+x[i+15]+x[i+16])*0.2\n",
    "    if data1['Apple_total_counts'][i]>=20:\n",
    "        data1.loc[i,'Apple_classification']=1\n",
    "    else:\n",
    "        data1.loc[i,'Apple_classification']=0"
   ]
  },
  {
   "cell_type": "code",
   "execution_count": 16,
   "id": "804ed123",
   "metadata": {},
   "outputs": [],
   "source": [
    "for i in range(7316,8858):\n",
    "    data1.loc[i,'Apple_total_counts']=(x[i]+x[i+1]+x[i+2]+x[i+3])*0.04+(x[i+4]+x[i+5]+x[i+6]+x[i+7])*0.2+4*x[i+8]+(x[i+9]+x[i+10]+x[i+11]+x[i+12])*0.04+(x[i+13]+x[i+14]+x[i+15]+x[i+16])*0.2\n",
    "    if data1['Apple_total_counts'][i]>=20:\n",
    "        data1.loc[i,'Apple_classification']=1\n",
    "    else:\n",
    "        data1.loc[i,'Apple_classification']=0"
   ]
  },
  {
   "cell_type": "code",
   "execution_count": 17,
   "id": "7b4f9df1",
   "metadata": {},
   "outputs": [],
   "source": [
    "for i in range(8864,10973):\n",
    "    data1.loc[i,'Apple_total_counts']=(x[i]+x[i+1]+x[i+2]+x[i+3])*0.04+(x[i+4]+x[i+5]+x[i+6]+x[i+7])*0.2+4*x[i+8]+(x[i+9]+x[i+10]+x[i+11]+x[i+12])*0.04+(x[i+13]+x[i+14]+x[i+15]+x[i+16])*0.2\n",
    "    if data1['Apple_total_counts'][i]>=20:\n",
    "        data1.loc[i,'Apple_classification']=1\n",
    "    else:\n",
    "        data1.loc[i,'Apple_classification']=0"
   ]
  },
  {
   "cell_type": "code",
   "execution_count": 18,
   "id": "d6b64ec3",
   "metadata": {},
   "outputs": [],
   "source": [
    "for i in range(10981,12655):\n",
    "    data1.loc[i,'Apple_total_counts']=(x[i]+x[i+1]+x[i+2]+x[i+3])*0.04+(x[i+4]+x[i+5]+x[i+6]+x[i+7])*0.2+4*x[i+8]+(x[i+9]+x[i+10]+x[i+11]+x[i+12])*0.04+(x[i+13]+x[i+14]+x[i+15]+x[i+16])*0.2\n",
    "    if data1['Apple_total_counts'][i]>=20:\n",
    "        data1.loc[i,'Apple_classification']=1\n",
    "    else:\n",
    "        data1.loc[i,'Apple_classification']=0"
   ]
  },
  {
   "cell_type": "code",
   "execution_count": 19,
   "id": "ae50f8d7",
   "metadata": {},
   "outputs": [],
   "source": [
    "for i in range(12669,14359):\n",
    "    data1.loc[i,'Apple_total_counts']=(x[i]+x[i+1]+x[i+2]+x[i+3])*0.04+(x[i+4]+x[i+5]+x[i+6]+x[i+7])*0.2+4*x[i+8]+(x[i+9]+x[i+10]+x[i+11]+x[i+12])*0.04+(x[i+13]+x[i+14]+x[i+15]+x[i+16])*0.2\n",
    "    if data1['Apple_total_counts'][i]>=20:\n",
    "        data1.loc[i,'Apple_classification']=1\n",
    "    else:\n",
    "        data1.loc[i,'Apple_classification']=0"
   ]
  },
  {
   "cell_type": "code",
   "execution_count": 20,
   "id": "818b93a5",
   "metadata": {},
   "outputs": [],
   "source": [
    "for i in range(14377,15868):\n",
    "    data1.loc[i,'Apple_total_counts']=(x[i]+x[i+1]+x[i+2]+x[i+3])*0.04+(x[i+4]+x[i+5]+x[i+6]+x[i+7])*0.2+4*x[i+8]+(x[i+9]+x[i+10]+x[i+11]+x[i+12])*0.04+(x[i+13]+x[i+14]+x[i+15]+x[i+16])*0.2\n",
    "    if data1['Apple_total_counts'][i]>=20:\n",
    "        data1.loc[i,'Apple_classification']=1\n",
    "    else:\n",
    "        data1.loc[i,'Apple_classification']=0"
   ]
  },
  {
   "cell_type": "code",
   "execution_count": 21,
   "id": "3c7e5e95",
   "metadata": {},
   "outputs": [],
   "source": [
    "for i in range(15886,18292):\n",
    "    data1.loc[i,'Apple_total_counts']=(x[i]+x[i+1]+x[i+2]+x[i+3])*0.04+(x[i+4]+x[i+5]+x[i+6]+x[i+7])*0.2+4*x[i+8]+(x[i+9]+x[i+10]+x[i+11]+x[i+12])*0.04+(x[i+13]+x[i+14]+x[i+15]+x[i+16])*0.2\n",
    "    if data1['Apple_total_counts'][i]>=20:\n",
    "        data1.loc[i,'Apple_classification']=1\n",
    "    else:\n",
    "        data1.loc[i,'Apple_classification']=0"
   ]
  },
  {
   "cell_type": "code",
   "execution_count": 22,
   "id": "22c8f6af",
   "metadata": {},
   "outputs": [],
   "source": [
    "for i in range(18318,20189):  \n",
    "    data1.loc[i,'Apple_total_counts']=(x[i]+x[i+1]+x[i+2]+x[i+3])*0.04+(x[i+4]+x[i+5]+x[i+6]+x[i+7])*0.2+4*x[i+8]+(x[i+9]+x[i+10]+x[i+11]+x[i+12])*0.04+(x[i+13]+x[i+14]+x[i+15]+x[i+16])*0.2\n",
    "    if data1['Apple_total_counts'][i]>=20:\n",
    "        data1.loc[i,'Apple_classification']=1\n",
    "    else:\n",
    "        data1.loc[i,'Apple_classification']=0"
   ]
  },
  {
   "cell_type": "code",
   "execution_count": 23,
   "id": "619d6576",
   "metadata": {},
   "outputs": [],
   "source": [
    "for i in range(20218,22027):\n",
    "    data1.loc[i,'Apple_total_counts']=(x[i]+x[i+1]+x[i+2]+x[i+3])*0.04+(x[i+4]+x[i+5]+x[i+6]+x[i+7])*0.2+4*x[i+8]+(x[i+9]+x[i+10]+x[i+11]+x[i+12])*0.04+(x[i+13]+x[i+14]+x[i+15]+x[i+16])*0.2\n",
    "    if data1['Apple_total_counts'][i]>=20:\n",
    "        data1.loc[i,'Apple_classification']=1\n",
    "    else:\n",
    "        data1.loc[i,'Apple_classification']=0"
   ]
  },
  {
   "cell_type": "code",
   "execution_count": 24,
   "id": "0af980da",
   "metadata": {},
   "outputs": [],
   "source": [
    "for i in range(22047,23992):\n",
    "    data1.loc[i,'Apple_total_counts']=(x[i]+x[i+1]+x[i+2]+x[i+3])*0.04+(x[i+4]+x[i+5]+x[i+6]+x[i+7])*0.2+4*x[i+8]+(x[i+9]+x[i+10]+x[i+11]+x[i+12])*0.04+(x[i+13]+x[i+14]+x[i+15]+x[i+16])*0.2\n",
    "    if data1['Apple_total_counts'][i]>=20:\n",
    "        data1.loc[i,'Apple_classification']=1\n",
    "    else:\n",
    "        data1.loc[i,'Apple_classification']=0"
   ]
  },
  {
   "cell_type": "code",
   "execution_count": 25,
   "id": "8b6a0254",
   "metadata": {},
   "outputs": [],
   "source": [
    "for i in range(24011,25521):\n",
    "    data1.loc[i,'Apple_total_counts']=(x[i]+x[i+1]+x[i+2]+x[i+3])*0.04+(x[i+4]+x[i+5]+x[i+6]+x[i+7])*0.2+4*x[i+8]+(x[i+9]+x[i+10]+x[i+11]+x[i+12])*0.04+(x[i+13]+x[i+14]+x[i+15]+x[i+16])*0.2\n",
    "    if data1['Apple_total_counts'][i]>=20:\n",
    "        data1.loc[i,'Apple_classification']=1\n",
    "    else:\n",
    "        data1.loc[i,'Apple_classification']=0"
   ]
  },
  {
   "cell_type": "code",
   "execution_count": 26,
   "id": "41da0f84",
   "metadata": {},
   "outputs": [],
   "source": [
    "for i in range(25543,27618):\n",
    "    data1.loc[i,'Apple_total_counts']=(x[i]+x[i+1]+x[i+2]+x[i+3])*0.04+(x[i+4]+x[i+5]+x[i+6]+x[i+7])*0.2+4*x[i+8]+(x[i+9]+x[i+10]+x[i+11]+x[i+12])*0.04+(x[i+13]+x[i+14]+x[i+15]+x[i+16])*0.2\n",
    "    if data1['Apple_total_counts'][i]>=20:\n",
    "        data1.loc[i,'Apple_classification']=1\n",
    "    else:\n",
    "        data1.loc[i,'Apple_classification']=0"
   ]
  },
  {
   "cell_type": "code",
   "execution_count": 27,
   "id": "665327ea",
   "metadata": {},
   "outputs": [],
   "source": [
    "for i in range(27636,29223):\n",
    "    data1.loc[i,'Apple_total_counts']=(x[i]+x[i+1]+x[i+2]+x[i+3])*0.04+(x[i+4]+x[i+5]+x[i+6]+x[i+7])*0.2+4*x[i+8]+(x[i+9]+x[i+10]+x[i+11]+x[i+12])*0.04+(x[i+13]+x[i+14]+x[i+15]+x[i+16])*0.2\n",
    "    if data1['Apple_total_counts'][i]>=20:\n",
    "        data1.loc[i,'Apple_classification']=1\n",
    "    else:\n",
    "        data1.loc[i,'Apple_classification']=0"
   ]
  },
  {
   "cell_type": "code",
   "execution_count": 28,
   "id": "d5fb6b48",
   "metadata": {},
   "outputs": [],
   "source": [
    "for i in range(29230,31062):\n",
    "    data1.loc[i,'Apple_total_counts']=(x[i]+x[i+1]+x[i+2]+x[i+3])*0.04+(x[i+4]+x[i+5]+x[i+6]+x[i+7])*0.2+4*x[i+8]+(x[i+9]+x[i+10]+x[i+11]+x[i+12])*0.04+(x[i+13]+x[i+14]+x[i+15]+x[i+16])*0.2\n",
    "    if data1['Apple_total_counts'][i]>=20:\n",
    "        data1.loc[i,'Apple_classification']=1\n",
    "    else:\n",
    "        data1.loc[i,'Apple_classification']=0"
   ]
  },
  {
   "cell_type": "code",
   "execution_count": 29,
   "id": "4adba2d8",
   "metadata": {},
   "outputs": [],
   "source": [
    "for i in range(31085,33048):\n",
    "    data1.loc[i,'Apple_total_counts']=(x[i]+x[i+1]+x[i+2]+x[i+3])*0.04+(x[i+4]+x[i+5]+x[i+6]+x[i+7])*0.2+4*x[i+8]+(x[i+9]+x[i+10]+x[i+11]+x[i+12])*0.04+(x[i+13]+x[i+14]+x[i+15]+x[i+16])*0.2\n",
    "    if data1['Apple_total_counts'][i]>=20:\n",
    "        data1.loc[i,'Apple_classification']=1\n",
    "    else:\n",
    "        data1.loc[i,'Apple_classification']=0"
   ]
  },
  {
   "cell_type": "code",
   "execution_count": 30,
   "id": "8d0dd22a",
   "metadata": {},
   "outputs": [],
   "source": [
    "for i in range(33060,36015):\n",
    "    data1.loc[i,'Apple_total_counts']=(x[i]+x[i+1]+x[i+2]+x[i+3])*0.04+(x[i+4]+x[i+5]+x[i+6]+x[i+7])*0.2+4*x[i+8]+(x[i+9]+x[i+10]+x[i+11]+x[i+12])*0.04+(x[i+13]+x[i+14]+x[i+15]+x[i+16])*0.2\n",
    "    if data1['Apple_total_counts'][i]>=20:\n",
    "        data1.loc[i,'Apple_classification']=1\n",
    "    else:\n",
    "        data1.loc[i,'Apple_classification']=0"
   ]
  },
  {
   "cell_type": "code",
   "execution_count": 31,
   "id": "793506d6",
   "metadata": {},
   "outputs": [],
   "source": [
    "for i in range(36030,37917):\n",
    "    data1.loc[i,'Apple_total_counts']=(x[i]+x[i+1]+x[i+2]+x[i+3])*0.04+(x[i+4]+x[i+5]+x[i+6]+x[i+7])*0.2+4*x[i+8]+(x[i+9]+x[i+10]+x[i+11]+x[i+12])*0.04+(x[i+13]+x[i+14]+x[i+15]+x[i+16])*0.2\n",
    "    if data1['Apple_total_counts'][i]>=20:\n",
    "        data1.loc[i,'Apple_classification']=1\n",
    "    else:\n",
    "        data1.loc[i,'Apple_classification']=0"
   ]
  },
  {
   "cell_type": "code",
   "execution_count": 32,
   "id": "1a37db5e",
   "metadata": {},
   "outputs": [],
   "source": [
    "for i in range(37933,39318):\n",
    "    data1.loc[i,'Apple_total_counts']=(x[i]+x[i+1]+x[i+2]+x[i+3])*0.04+(x[i+4]+x[i+5]+x[i+6]+x[i+7])*0.2+4*x[i+8]+(x[i+9]+x[i+10]+x[i+11]+x[i+12])*0.04+(x[i+13]+x[i+14]+x[i+15]+x[i+16])*0.2\n",
    "    if data1['Apple_total_counts'][i]>=20:\n",
    "        data1.loc[i,'Apple_classification']=1\n",
    "    else:\n",
    "        data1.loc[i,'Apple_classification']=0"
   ]
  },
  {
   "cell_type": "code",
   "execution_count": 33,
   "id": "ba5b5281",
   "metadata": {},
   "outputs": [],
   "source": [
    "for i in range(39333,41774):\n",
    "    data1.loc[i,'Apple_total_counts']=(x[i]+x[i+1]+x[i+2]+x[i+3])*0.04+(x[i+4]+x[i+5]+x[i+6]+x[i+7])*0.2+4*x[i+8]+(x[i+9]+x[i+10]+x[i+11]+x[i+12])*0.04+(x[i+13]+x[i+14]+x[i+15]+x[i+16])*0.2\n",
    "    if data1['Apple_total_counts'][i]>=20:\n",
    "        data1.loc[i,'Apple_classification']=1\n",
    "    else:\n",
    "        data1.loc[i,'Apple_classification']=0"
   ]
  },
  {
   "cell_type": "code",
   "execution_count": 34,
   "id": "5c7869fe",
   "metadata": {},
   "outputs": [],
   "source": [
    "for i in range(41783,43231):\n",
    "    data1.loc[i,'Apple_total_counts']=(x[i]+x[i+1]+x[i+2]+x[i+3])*0.04+(x[i+4]+x[i+5]+x[i+6]+x[i+7])*0.2+4*x[i+8]+(x[i+9]+x[i+10]+x[i+11]+x[i+12])*0.04+(x[i+13]+x[i+14]+x[i+15]+x[i+16])*0.2\n",
    "    if data1['Apple_total_counts'][i]>=20:\n",
    "        data1.loc[i,'Apple_classification']=1\n",
    "    else:\n",
    "        data1.loc[i,'Apple_classification']=0"
   ]
  },
  {
   "cell_type": "code",
   "execution_count": 35,
   "id": "40d6ea90",
   "metadata": {},
   "outputs": [],
   "source": [
    "for i in range(43241,45234):\n",
    "    data1.loc[i,'Apple_total_counts']=(x[i]+x[i+1]+x[i+2]+x[i+3])*0.04+(x[i+4]+x[i+5]+x[i+6]+x[i+7])*0.2+4*x[i+8]+(x[i+9]+x[i+10]+x[i+11]+x[i+12])*0.04+(x[i+13]+x[i+14]+x[i+15]+x[i+16])*0.2\n",
    "    if data1['Apple_total_counts'][i]>=20:\n",
    "        data1.loc[i,'Apple_classification']=1\n",
    "    else:\n",
    "        data1.loc[i,'Apple_classification']=0"
   ]
  },
  {
   "cell_type": "code",
   "execution_count": 36,
   "id": "26567459",
   "metadata": {},
   "outputs": [],
   "source": [
    "for i in range(45246,46842):\n",
    "    data1.loc[i,'Apple_total_counts']=(x[i]+x[i+1]+x[i+2]+x[i+3])*0.04+(x[i+4]+x[i+5]+x[i+6]+x[i+7])*0.2+4*x[i+8]+(x[i+9]+x[i+10]+x[i+11]+x[i+12])*0.04+(x[i+13]+x[i+14]+x[i+15]+x[i+16])*0.2\n",
    "    if data1['Apple_total_counts'][i]>=20:\n",
    "        data1.loc[i,'Apple_classification']=1\n",
    "    else:\n",
    "        data1.loc[i,'Apple_classification']=0"
   ]
  },
  {
   "cell_type": "code",
   "execution_count": 37,
   "id": "89fbe822",
   "metadata": {},
   "outputs": [],
   "source": [
    "for i in range(46857,48296):\n",
    "    data1.loc[i,'Apple_total_counts']=(x[i]+x[i+1]+x[i+2]+x[i+3])*0.04+(x[i+4]+x[i+5]+x[i+6]+x[i+7])*0.2+4*x[i+8]+(x[i+9]+x[i+10]+x[i+11]+x[i+12])*0.04+(x[i+13]+x[i+14]+x[i+15]+x[i+16])*0.2\n",
    "    if data1['Apple_total_counts'][i]>=20:\n",
    "        data1.loc[i,'Apple_classification']=1\n",
    "    else:\n",
    "        data1.loc[i,'Apple_classification']=0"
   ]
  },
  {
   "cell_type": "code",
   "execution_count": 38,
   "id": "f3004475",
   "metadata": {},
   "outputs": [],
   "source": [
    "for i in range(48300,48893):\n",
    "    data1.loc[i,'Apple_total_counts']=(x[i]+x[i+1]+x[i+2]+x[i+3])*0.04+(x[i+4]+x[i+5]+x[i+6]+x[i+7])*0.2+4*x[i+8]+(x[i+9]+x[i+10]+x[i+11]+x[i+12])*0.04+(x[i+13]+x[i+14]+x[i+15]+x[i+16])*0.2\n",
    "    if data1['Apple_total_counts'][i]>=20:\n",
    "        data1.loc[i,'Apple_classification']=1\n",
    "    else:\n",
    "        data1.loc[i,'Apple_classification']=0"
   ]
  },
  {
   "cell_type": "code",
   "execution_count": 39,
   "id": "9c41395e",
   "metadata": {},
   "outputs": [],
   "source": [
    "data1.dropna(subset=['Apple_total_counts'], inplace=True)"
   ]
  },
  {
   "cell_type": "code",
   "execution_count": 40,
   "id": "7fb17d19",
   "metadata": {},
   "outputs": [
    {
     "name": "stdout",
     "output_type": "stream",
     "text": [
      "Confusion Matrix:\n",
      "[[42360  2285]\n",
      " [ 2714  1105]]\n"
     ]
    },
    {
     "data": {
      "text/plain": [
       "<AxesSubplot:>"
      ]
     },
     "execution_count": 40,
     "metadata": {},
     "output_type": "execute_result"
    },
    {
     "data": {
      "image/png": "[encoded data removed]",
      "text/plain": [
       "<Figure size 432x288 with 2 Axes>"
      ]
     },
     "metadata": {
      "needs_background": "light"
     },
     "output_type": "display_data"
    }
   ],
   "source": [
    "y_true = data1['Actiware classification'].astype(int)\n",
    "y_pred = data1['Apple_classification'].astype(int)\n",
    "\n",
    "confusion_matrix_1=confusion_matrix(y_true,y_pred)\n",
    "\n",
    "print(\"Confusion Matrix:\",confusion_matrix_1,sep=\"\\n\")\n",
    "\n",
    "\n",
    "\n",
    "#plot Confusion_matrix\n",
    "group_names = ['TP','FP','FN','TN']\n",
    "group_counts = ['{0:0.0f}'.format(value) for value in confusion_matrix_1.flatten()]\n",
    "group_percentages = ['{0:.2%}'.format(value) for value in confusion_matrix_1.flatten()/np.sum(confusion_matrix_1)]\n",
    "labels = [f'{v1}\\n{v2}\\n{v3}' for v1, v2, v3 in zip(group_names,group_counts,group_percentages)]\n",
    "labels = np.asarray(labels).reshape(2,2)\n",
    "sn.heatmap(confusion_matrix_1, annot=labels, fmt='', cmap='Blues')\n",
    "\n"
   ]
  },
  {
   "cell_type": "code",
   "execution_count": 41,
   "id": "67c78d34",
   "metadata": {},
   "outputs": [
    {
     "name": "stdout",
     "output_type": "stream",
     "text": [
      "classification_report:\n",
      "              precision    recall  f1-score   support\n",
      "\n",
      "           0       0.94      0.95      0.94     44645\n",
      "           1       0.33      0.29      0.31      3819\n",
      "\n",
      "    accuracy                           0.90     48464\n",
      "   macro avg       0.63      0.62      0.63     48464\n",
      "weighted avg       0.89      0.90      0.89     48464\n",
      "\n",
      "Cohen’s Kappa score: 0.2510559435250981\n",
      "Matthews correlation coefficient score: 0.2515761019795823\n"
     ]
    }
   ],
   "source": [
    "#generate classification_report\n",
    "r_1 = classification_report(y_true,y_pred)\n",
    "print(\"classification_report:\",r_1,sep=\"\\n\")\n",
    "\n",
    "print(\"Cohen’s Kappa score:\", cohen_kappa_score(y_true, y_pred))\n",
    "print(\"Matthews correlation coefficient score:\", matthews_corrcoef(y_true, y_pred))\n"
   ]
  },
  {
   "cell_type": "code",
   "execution_count": 42,
   "id": "fe9d29a2",
   "metadata": {},
   "outputs": [
    {
     "data": {
      "image/png": "[encoded data removed]",
      "text/plain": [
       "<Figure size 432x288 with 1 Axes>"
      ]
     },
     "metadata": {
      "needs_background": "light"
     },
     "output_type": "display_data"
    }
   ],
   "source": [
    "#plot ROC curve\n",
    "fpr, tpr, threshold = metrics.roc_curve(y_true, y_pred)\n",
    "roc_auc = metrics.auc(fpr, tpr)\n",
    "\n",
    "plt.title('Receiver Operating Characteristic')\n",
    "plt.plot(fpr, tpr, 'b', label='AUC = %0.2f' % roc_auc)\n",
    "plt.legend(loc='lower right')\n",
    "plt.plot([0, 1], [0, 1], 'r--')\n",
    "plt.xlim([0, 1])\n",
    "plt.ylim([0, 1])\n",
    "plt.ylabel('True Positive Rate')\n",
    "plt.xlabel('False Positive Rate')\n",
    "plt.show()"
   ]
  }
 ],
 "metadata": {
  "kernelspec": {
   "display_name": "Python 3",
   "language": "python",
   "name": "python3"
  },
  "language_info": {
   "codemirror_mode": {
    "name": "ipython",
    "version": 3
   },
   "file_extension": ".py",
   "mimetype": "text/x-python",
   "name": "python",
   "nbconvert_exporter": "python",
   "pygments_lexer": "ipython3",
   "version": "3.8.8"
  }
 },
 "nbformat": 4,
 "nbformat_minor": 5
}
